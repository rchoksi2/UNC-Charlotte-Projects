{
 "cells": [
  {
   "cell_type": "code",
   "execution_count": 2,
   "metadata": {
    "colab": {
     "base_uri": "https://localhost:8080/"
    },
    "id": "QAfHFGiJE0b_",
    "outputId": "f6f32a83-6e01-4a83-ff44-0bbcaa75bd04"
   },
   "outputs": [
    {
     "name": "stdout",
     "output_type": "stream",
     "text": [
      "Mounted at /content/gdrive\n"
     ]
    }
   ],
   "source": [
    "import os, sys\n",
    "import numpy as np\n",
    "import matplotlib.pyplot as plt\n",
    "from keras.models import Model\n",
    "from keras.layers import Input, LSTM, GRU, Dense, Embedding\n",
    "from keras.preprocessing.text import Tokenizer\n",
    "from keras.preprocessing.sequence import pad_sequences\n",
    "from tensorflow.keras.utils import to_categorical\n",
    "from google.colab import drive\n",
    "drive.mount('/content/gdrive')\n",
    "from numpy import array\n",
    "from numpy import asarray\n",
    "from numpy import zeros"
   ]
  },
  {
   "cell_type": "code",
   "execution_count": 3,
   "metadata": {
    "id": "mnY-Pw0uE-i_"
   },
   "outputs": [],
   "source": [
    "BATCH_SIZE = 64\n",
    "NUM_SENTENCES = 20000\n",
    "MAX_SENTENCE_LENGTH = 50\n",
    "MAX_WORDS_COUNT = 20000\n",
    "EMBEDDING_SIZE = 100\n",
    "EPOCHS = 20\n",
    "LSTM_NODES =256"
   ]
  },
  {
   "cell_type": "code",
   "execution_count": 5,
   "metadata": {
    "colab": {
     "base_uri": "https://localhost:8080/"
    },
    "id": "dfzdvgFQFBdu",
    "outputId": "fe1476da-d110-40d7-edf2-73e25785a326"
   },
   "outputs": [
    {
     "name": "stdout",
     "output_type": "stream",
     "text": [
      "Number of input samples for encoder: 20000\n",
      "Number of output samples for encoder: 20000\n",
      "Number of input samples for decoder: 20000\n"
     ]
    }
   ],
   "source": [
    "Input_list = [] \n",
    "Output_list = []  \n",
    "Output_input_list = []  \n",
    " \n",
    "count = 0\n",
    "for line in open(r'/content/gdrive/My Drive/german_sample.txt', encoding=\"utf-8\"):\n",
    "    count += 1\n",
    "\n",
    "    if count > NUM_SENTENCES:\n",
    "        break\n",
    "\n",
    "    if '\\t' not in line:\n",
    "        continue\n",
    "\n",
    "    input_sentence, output = line.rstrip().split('\\t')\n",
    "\n",
    "    output_sentence = output + ' <eos>'\n",
    "    output_sentence_input = '<sos> ' + output\n",
    "\n",
    "    Input_list.append(input_sentence)\n",
    "    Output_list.append(output_sentence)\n",
    "    Output_input_list.append(output_sentence_input)\n",
    "\n",
    "print(\"Number of input samples for encoder:\", len(Input_list))\n",
    "print(\"Number of output samples for encoder:\", len(Output_list))\n",
    "print(\"Number of input samples for decoder:\", len(Output_input_list))"
   ]
  },
  {
   "cell_type": "code",
   "execution_count": 6,
   "metadata": {
    "colab": {
     "base_uri": "https://localhost:8080/"
    },
    "id": "QEdl2WHRzg7j",
    "outputId": "1a62b5cb-7f7b-4b9a-ba10-eafd227d179d"
   },
   "outputs": [
    {
     "name": "stdout",
     "output_type": "stream",
     "text": [
      "Get Tom.\n",
      "Hol Tom. <eos>\n",
      "<sos> Hol Tom.\n"
     ]
    }
   ],
   "source": [
    "print(Input_list[150])\n",
    "print(Output_list[150])\n",
    "print(Output_input_list[150])"
   ]
  },
  {
   "cell_type": "code",
   "execution_count": 7,
   "metadata": {
    "colab": {
     "base_uri": "https://localhost:8080/"
    },
    "id": "FUCSeVVu8WUo",
    "outputId": "ecc4b425-de2c-43e8-cc43-d4be99f1fba8"
   },
   "outputs": [
    {
     "name": "stdout",
     "output_type": "stream",
     "text": [
      "Number of unique words in input list: 3552\n",
      "Length of the longest sentence in input list: 6\n"
     ]
    }
   ],
   "source": [
    "token_input = Tokenizer(num_words = MAX_WORDS_COUNT)\n",
    "token_input.fit_on_texts(Input_list)\n",
    "input_integer_seq = token_input.texts_to_sequences(Input_list)\n",
    "\n",
    "input_word_index = token_input.word_index\n",
    "print('Number of unique words in input list: %s' % len(input_word_index))\n",
    "\n",
    "max_input_len = max(len(sen) for sen in input_integer_seq)\n",
    "print(\"Length of the longest sentence in input list: %g\" % max_input_len)"
   ]
  },
  {
   "cell_type": "code",
   "execution_count": 8,
   "metadata": {
    "colab": {
     "base_uri": "https://localhost:8080/"
    },
    "id": "DornHpsl8dYJ",
    "outputId": "bf01ed1b-19e8-459e-fc35-d1bed7ef39d3"
   },
   "outputs": [
    {
     "name": "stdout",
     "output_type": "stream",
     "text": [
      "Number of unique words in the output list: 8090\n",
      "Length of the longest sentence in output list: 11\n"
     ]
    }
   ],
   "source": [
    "token_output = Tokenizer(num_words = MAX_WORDS_COUNT, filters='')\n",
    "token_output.fit_on_texts(Output_list + Output_input_list)\n",
    "output_integer_seq = token_output.texts_to_sequences(Output_list)\n",
    "output_input_integer_seq = token_output.texts_to_sequences(Output_input_list)\n",
    "\n",
    "output_word_index = token_output.word_index\n",
    "print('Number of unique words in the output list: %s' % len(output_word_index))\n",
    "\n",
    "num_words_output = len(output_word_index) + 1\n",
    "max_out_len = max(len(sen) for sen in output_integer_seq)\n",
    "print(\"Length of the longest sentence in output list: %g\" % max_out_len)\n"
   ]
  },
  {
   "cell_type": "code",
   "execution_count": 9,
   "metadata": {
    "colab": {
     "base_uri": "https://localhost:8080/"
    },
    "id": "tdry1Bka8hb3",
    "outputId": "e140f28a-e906-4262-ead3-69c47205fd8f"
   },
   "outputs": [
    {
     "name": "stdout",
     "output_type": "stream",
     "text": [
      "Checking shape of padded input sequence for encoder: (20000, 6)\n",
      "Padded input sequence for encoder at index [150]: [ 0  0  0  0 36  1]\n"
     ]
    }
   ],
   "source": [
    "encoder_padded_input_sequence = pad_sequences(input_integer_seq, maxlen=max_input_len)\n",
    "print(\"Checking shape of padded input sequence for encoder:\", encoder_padded_input_sequence.shape)\n",
    "print(\"Padded input sequence for encoder at index [150]:\", encoder_padded_input_sequence[150])"
   ]
  },
  {
   "cell_type": "code",
   "execution_count": 76,
   "metadata": {
    "colab": {
     "base_uri": "https://localhost:8080/"
    },
    "id": "c490QnEY8nqS",
    "outputId": "6776ff4e-ab79-4ae2-cf92-d302d543031b"
   },
   "outputs": [
    {
     "name": "stdout",
     "output_type": "stream",
     "text": [
      "36\n",
      "1\n"
     ]
    }
   ],
   "source": [
    "print(input_word_index[\"get\"])\n",
    "print(input_word_index[\"tom\"])"
   ]
  },
  {
   "cell_type": "code",
   "execution_count": 11,
   "metadata": {
    "colab": {
     "base_uri": "https://localhost:8080/"
    },
    "id": "rCtPqlHJ9d_l",
    "outputId": "6c13a459-a3cf-4aa2-8d44-c740c8d4e95e"
   },
   "outputs": [
    {
     "name": "stdout",
     "output_type": "stream",
     "text": [
      "Checking shape of padded input sequence for decoder: (20000, 11)\n",
      "Padded input sequence for decoder at index [150]: [  2 281  32   0   0   0   0   0   0   0   0]\n"
     ]
    }
   ],
   "source": [
    "decoder_padded_input_sequence = pad_sequences(output_input_integer_seq, maxlen=max_out_len, padding='post')\n",
    "print(\"Checking shape of padded input sequence for decoder:\", decoder_padded_input_sequence.shape)\n",
    "print(\"Padded input sequence for decoder at index [150]:\", decoder_padded_input_sequence[150])"
   ]
  },
  {
   "cell_type": "code",
   "execution_count": 75,
   "metadata": {
    "colab": {
     "base_uri": "https://localhost:8080/"
    },
    "id": "d8ieKl1W9jGa",
    "outputId": "04737a48-06a8-41a6-f75c-481082d25548"
   },
   "outputs": [
    {
     "name": "stdout",
     "output_type": "stream",
     "text": [
      "2\n",
      "281\n",
      "32\n"
     ]
    }
   ],
   "source": [
    "print(output_word_index[\"<sos>\"])\n",
    "print(output_word_index[\"hol\"])\n",
    "print(output_word_index[\"tom.\"])"
   ]
  },
  {
   "cell_type": "code",
   "execution_count": 13,
   "metadata": {
    "colab": {
     "base_uri": "https://localhost:8080/"
    },
    "id": "br9RbvLBePHY",
    "outputId": "675dd4cd-da8b-4eb2-af62-9ffaae6b3b00"
   },
   "outputs": [
    {
     "name": "stdout",
     "output_type": "stream",
     "text": [
      "Checking shape of padded output sequence for decoder: (20000, 11)\n",
      "Padded output sequence for decoder at index [150] [281  32   1   0   0   0   0   0   0   0   0]\n"
     ]
    }
   ],
   "source": [
    "decoder_padded_output_sequence=pad_sequences(output_integer_seq, maxlen=max_out_len, padding='post')\n",
    "print(\"Checking shape of padded output sequence for decoder:\", decoder_padded_output_sequence.shape)\n",
    "print(\"Padded output sequence for decoder at index [150]\", decoder_padded_output_sequence[150])"
   ]
  },
  {
   "cell_type": "code",
   "execution_count": 14,
   "metadata": {
    "id": "Q7oKN0Ui-EIs"
   },
   "outputs": [],
   "source": [
    "word_embed_dict = dict()\n",
    "\n",
    "globvector  = open(r'/content/gdrive/My Drive/glove.6B.100d.txt', encoding=\"utf8\")\n",
    "\n",
    "for line in globvector:\n",
    "    records = line.split()\n",
    "    word = records[0]\n",
    "    vector_dim  = asarray(records[1:], dtype='float32')\n",
    "    word_embed_dict[word] = vector_dim \n",
    "globvector.close()"
   ]
  },
  {
   "cell_type": "code",
   "execution_count": 15,
   "metadata": {
    "id": "wRtSWUX5lW2K"
   },
   "outputs": [],
   "source": [
    "words_count = min(MAX_WORDS_COUNT, len(input_word_index) + 1)\n",
    "embedding_matrix = zeros((words_count, EMBEDDING_SIZE))\n",
    "for word, index in input_word_index.items():\n",
    "    embedding_vector = word_embed_dict.get(word)\n",
    "    if embedding_vector is not None:\n",
    "        embedding_matrix[index] = embedding_vector"
   ]
  },
  {
   "cell_type": "code",
   "execution_count": 16,
   "metadata": {
    "colab": {
     "base_uri": "https://localhost:8080/"
    },
    "id": "wkqGKe-MlZb6",
    "outputId": "6193013a-73fa-4f95-a08b-69b4e1f0cf49"
   },
   "outputs": [
    {
     "name": "stdout",
     "output_type": "stream",
     "text": [
      "[ 0.14433    0.43951    0.58324   -0.74477   -0.49797    0.086928\n",
      " -0.29798    0.39964    0.14083   -0.36578    0.33322    0.47181\n",
      "  0.1996     0.18278    0.17176   -0.34297    0.04252    0.39309\n",
      " -0.66272    0.62738    0.22845    0.44657    0.11174   -0.41396\n",
      "  0.079795   0.078823  -0.26135   -0.80966    0.52807   -0.47327\n",
      "  0.055901   0.85753    0.19722    0.30782    0.39039    0.31804\n",
      " -0.53604    0.1835     0.081918   0.27753   -0.25792   -0.37158\n",
      " -0.2215    -1.0916    -0.52179    0.12665   -0.48591   -0.26716\n",
      "  0.37119   -1.0525    -0.30202   -0.16279   -0.32528    0.95493\n",
      "  0.14915   -2.4934     0.27505    0.16308    1.8972     0.21172\n",
      "  0.10776    1.1318    -0.85962    0.060199   0.83713    0.030006\n",
      "  0.59344    0.42821   -0.13722   -0.49128    0.0043155 -0.51829\n",
      " -0.059878  -0.58476    0.062621   0.31269   -0.52613   -0.35209\n",
      " -0.49959   -0.13117    0.62349   -0.092936  -0.92224   -0.32487\n",
      " -1.8286    -0.1284     0.50507   -0.034628  -0.79806   -0.49739\n",
      " -0.096325  -0.17695   -0.036351  -0.75977   -0.49938   -0.20278\n",
      "  0.34232    0.50134    0.49536    0.4992   ]\n"
     ]
    }
   ],
   "source": [
    "print(word_embed_dict[\"get\"])"
   ]
  },
  {
   "cell_type": "code",
   "execution_count": 17,
   "metadata": {
    "colab": {
     "base_uri": "https://localhost:8080/"
    },
    "id": "5vZ17IXwlo2O",
    "outputId": "765b779c-3257-4c0a-da25-d3e419172db6"
   },
   "outputs": [
    {
     "name": "stdout",
     "output_type": "stream",
     "text": [
      "[ 0.14432999  0.43950999  0.58323997 -0.74476999 -0.49797001  0.086928\n",
      " -0.29798001  0.39963999  0.14083    -0.36578     0.33322001  0.47181001\n",
      "  0.1996      0.18278     0.17175999 -0.34297001  0.04252     0.39309001\n",
      " -0.66272002  0.62738001  0.22845     0.44657001  0.11174    -0.41396001\n",
      "  0.079795    0.078823   -0.26135001 -0.80966002  0.52806997 -0.47327\n",
      "  0.055901    0.85753     0.19722     0.30781999  0.39039001  0.31804001\n",
      " -0.53604001  0.18350001  0.081918    0.27753001 -0.25792    -0.37158\n",
      " -0.22149999 -1.09159994 -0.52179003  0.12665001 -0.48591    -0.26716\n",
      "  0.37119001 -1.05250001 -0.30202001 -0.16279    -0.32528001  0.95493001\n",
      "  0.14915    -2.4934001   0.27505001  0.16308001  1.89719999  0.21172\n",
      "  0.10776     1.13180006 -0.85961998  0.060199    0.83713001  0.030006\n",
      "  0.59344     0.42820999 -0.13722    -0.49127999  0.0043155  -0.51828998\n",
      " -0.059878   -0.58476001  0.062621    0.31268999 -0.52613002 -0.35209\n",
      " -0.49959001 -0.13117     0.62348998 -0.092936   -0.92224002 -0.32486999\n",
      " -1.82860005 -0.1284      0.50506997 -0.034628   -0.79806    -0.49739\n",
      " -0.096325   -0.17694999 -0.036351   -0.75976998 -0.49937999 -0.20277999\n",
      "  0.34232     0.50133997  0.49535999  0.49919999]\n"
     ]
    }
   ],
   "source": [
    "print(embedding_matrix[36])"
   ]
  },
  {
   "cell_type": "code",
   "execution_count": 18,
   "metadata": {
    "id": "H3zdy22el_wV"
   },
   "outputs": [],
   "source": [
    "embedding_layer = Embedding(words_count, EMBEDDING_SIZE, weights=[embedding_matrix], input_length=max_input_len)"
   ]
  },
  {
   "cell_type": "code",
   "execution_count": 19,
   "metadata": {
    "id": "eXbxtLoXmE0B"
   },
   "outputs": [],
   "source": [
    "decoder_target_array = np.zeros((\n",
    "        len(Input_list),\n",
    "        max_out_len,\n",
    "        num_words_output\n",
    "    ),\n",
    "    dtype='float32')"
   ]
  },
  {
   "cell_type": "code",
   "execution_count": 20,
   "metadata": {
    "colab": {
     "base_uri": "https://localhost:8080/"
    },
    "id": "KjokxvDGmVe7",
    "outputId": "555b9d39-0614-4d55-8e32-ba7a76a22a2c"
   },
   "outputs": [
    {
     "data": {
      "text/plain": [
       "(20000, 11, 8091)"
      ]
     },
     "execution_count": 20,
     "metadata": {},
     "output_type": "execute_result"
    }
   ],
   "source": [
    "decoder_target_array.shape"
   ]
  },
  {
   "cell_type": "code",
   "execution_count": 21,
   "metadata": {
    "id": "gILPTOOkb3w0"
   },
   "outputs": [],
   "source": [
    "for i,d in enumerate(decoder_padded_output_sequence):\n",
    "    for t, word in enumerate(d):\n",
    "        decoder_target_array[i, t, word] = 1"
   ]
  },
  {
   "cell_type": "code",
   "execution_count": 22,
   "metadata": {
    "id": "DKvSZR5QmdRV"
   },
   "outputs": [],
   "source": [
    "encoder_in_placeholder = Input(shape=(max_input_len,))\n",
    "x = embedding_layer(encoder_in_placeholder)\n",
    "encoder = LSTM(LSTM_NODES, return_state=True)\n",
    "\n",
    "encoder_outputs, h, c = encoder(x)\n",
    "encoder_states = [h, c]"
   ]
  },
  {
   "cell_type": "code",
   "execution_count": 23,
   "metadata": {
    "id": "Xu6HplmFmmh6"
   },
   "outputs": [],
   "source": [
    "decoder_in_placeholder = Input(shape=(max_out_len,))\n",
    "\n",
    "decoder_embedding = Embedding(num_words_output, LSTM_NODES)\n",
    "decoder_inputs_x = decoder_embedding(decoder_in_placeholder)\n",
    "\n",
    "decoder_lstm = LSTM(LSTM_NODES, return_sequences=True, return_state=True)\n",
    "decoder_outputs, _, _ = decoder_lstm(decoder_inputs_x, initial_state=encoder_states)"
   ]
  },
  {
   "cell_type": "code",
   "execution_count": 24,
   "metadata": {
    "id": "fCiSna4wmp1J"
   },
   "outputs": [],
   "source": [
    "decoder_dense = Dense(num_words_output, activation='softmax')\n",
    "decoder_outputs = decoder_dense(decoder_outputs)"
   ]
  },
  {
   "cell_type": "code",
   "execution_count": 25,
   "metadata": {
    "id": "b75m5Y2cmt-Z"
   },
   "outputs": [],
   "source": [
    "model1 = Model([encoder_in_placeholder,\n",
    "  decoder_in_placeholder], decoder_outputs)\n",
    "model1.compile(\n",
    "    optimizer='rmsprop',\n",
    "    loss='categorical_crossentropy',\n",
    "    metrics=['accuracy'])"
   ]
  },
  {
   "cell_type": "code",
   "execution_count": 29,
   "metadata": {
    "colab": {
     "base_uri": "https://localhost:8080/"
    },
    "id": "Zf-92AeLnFR6",
    "outputId": "d4a4a7d1-9b91-44b2-9b6c-44d3b3825457"
   },
   "outputs": [
    {
     "name": "stdout",
     "output_type": "stream",
     "text": [
      "Epoch 1/20\n",
      "282/282 [==============================] - 128s 436ms/step - loss: 2.1484 - accuracy: 0.7047 - val_loss: 2.1425 - val_accuracy: 0.7032\n",
      "Epoch 2/20\n",
      "282/282 [==============================] - 117s 415ms/step - loss: 1.5846 - accuracy: 0.7683 - val_loss: 1.8742 - val_accuracy: 0.7417\n",
      "Epoch 3/20\n",
      "282/282 [==============================] - 116s 413ms/step - loss: 1.3857 - accuracy: 0.7934 - val_loss: 1.7795 - val_accuracy: 0.7558\n",
      "Epoch 4/20\n",
      "282/282 [==============================] - 116s 411ms/step - loss: 1.2575 - accuracy: 0.8105 - val_loss: 1.6865 - val_accuracy: 0.7678\n",
      "Epoch 5/20\n",
      "282/282 [==============================] - 115s 407ms/step - loss: 1.1594 - accuracy: 0.8234 - val_loss: 1.6157 - val_accuracy: 0.7734\n",
      "Epoch 6/20\n",
      "282/282 [==============================] - 115s 407ms/step - loss: 1.0805 - accuracy: 0.8334 - val_loss: 1.5828 - val_accuracy: 0.7781\n",
      "Epoch 7/20\n",
      "282/282 [==============================] - 113s 402ms/step - loss: 1.0122 - accuracy: 0.8428 - val_loss: 1.5399 - val_accuracy: 0.7825\n",
      "Epoch 8/20\n",
      "282/282 [==============================] - 114s 405ms/step - loss: 0.9542 - accuracy: 0.8514 - val_loss: 1.5172 - val_accuracy: 0.7857\n",
      "Epoch 9/20\n",
      "282/282 [==============================] - 115s 409ms/step - loss: 0.9037 - accuracy: 0.8589 - val_loss: 1.4893 - val_accuracy: 0.7884\n",
      "Epoch 10/20\n",
      "282/282 [==============================] - 114s 405ms/step - loss: 0.8577 - accuracy: 0.8668 - val_loss: 1.4695 - val_accuracy: 0.7902\n",
      "Epoch 11/20\n",
      "282/282 [==============================] - 117s 414ms/step - loss: 0.8146 - accuracy: 0.8728 - val_loss: 1.4694 - val_accuracy: 0.7915\n",
      "Epoch 12/20\n",
      "282/282 [==============================] - 116s 413ms/step - loss: 0.7775 - accuracy: 0.8782 - val_loss: 1.4679 - val_accuracy: 0.7931\n",
      "Epoch 13/20\n",
      "282/282 [==============================] - 116s 412ms/step - loss: 0.7477 - accuracy: 0.8837 - val_loss: 1.4805 - val_accuracy: 0.7951\n",
      "Epoch 14/20\n",
      "282/282 [==============================] - 117s 413ms/step - loss: 0.7211 - accuracy: 0.8883 - val_loss: 1.4725 - val_accuracy: 0.7956\n",
      "Epoch 15/20\n",
      "282/282 [==============================] - 117s 414ms/step - loss: 0.6980 - accuracy: 0.8922 - val_loss: 1.4870 - val_accuracy: 0.7968\n",
      "Epoch 16/20\n",
      "282/282 [==============================] - 115s 407ms/step - loss: 0.6764 - accuracy: 0.8965 - val_loss: 1.4997 - val_accuracy: 0.7970\n",
      "Epoch 17/20\n",
      "282/282 [==============================] - 115s 408ms/step - loss: 0.6581 - accuracy: 0.9000 - val_loss: 1.5006 - val_accuracy: 0.7966\n",
      "Epoch 18/20\n",
      "282/282 [==============================] - 118s 417ms/step - loss: 0.6407 - accuracy: 0.9032 - val_loss: 1.5106 - val_accuracy: 0.7949\n",
      "Epoch 19/20\n",
      "282/282 [==============================] - 116s 411ms/step - loss: 0.6248 - accuracy: 0.9061 - val_loss: 1.5292 - val_accuracy: 0.7953\n",
      "Epoch 20/20\n",
      "282/282 [==============================] - 116s 412ms/step - loss: 0.6109 - accuracy: 0.9088 - val_loss: 1.5374 - val_accuracy: 0.7941\n"
     ]
    }
   ],
   "source": [
    "r = model1.fit(\n",
    "    [encoder_padded_input_sequence, decoder_padded_input_sequence],\n",
    "    decoder_target_array,\n",
    "    batch_size=BATCH_SIZE,\n",
    "    epochs=EPOCHS,\n",
    "    validation_split=0.1,)"
   ]
  },
  {
   "cell_type": "code",
   "execution_count": 30,
   "metadata": {
    "id": "FcSeZNS8nhvS"
   },
   "outputs": [],
   "source": [
    "encoder_model = Model(encoder_in_placeholder, encoder_states)"
   ]
  },
  {
   "cell_type": "code",
   "execution_count": 47,
   "metadata": {
    "colab": {
     "base_uri": "https://localhost:8080/",
     "height": 295
    },
    "id": "DR-79G5tQmIW",
    "outputId": "9b813447-c532-4f92-fbda-61f80b20bb7b"
   },
   "outputs": [
    {
     "data": {
      "image/png": "[encoded data removed]",
      "text/plain": [
       "<Figure size 432x288 with 1 Axes>"
      ]
     },
     "metadata": {
      "needs_background": "light"
     },
     "output_type": "display_data"
    }
   ],
   "source": [
    "plt.plot(r.history['accuracy'])\n",
    "plt.title('Tranining Accuracy')\n",
    "plt.xlabel('Epoch')\n",
    "plt.ylabel('Accuracy')\n",
    "plt.show()"
   ]
  },
  {
   "cell_type": "code",
   "execution_count": 52,
   "metadata": {
    "colab": {
     "base_uri": "https://localhost:8080/",
     "height": 295
    },
    "id": "SD5U5b2TT3vj",
    "outputId": "e6b50d32-1abd-45fa-ef17-8c8561e6f57a"
   },
   "outputs": [
    {
     "data": {
      "image/png": "[encoded data removed]",
      "text/plain": [
       "<Figure size 432x288 with 1 Axes>"
      ]
     },
     "metadata": {
      "needs_background": "light"
     },
     "output_type": "display_data"
    }
   ],
   "source": [
    "plt.plot(r.history['loss'])\n",
    "plt.title('Training Loss')\n",
    "plt.xlabel('Epoch')\n",
    "plt.ylabel('Loss')\n",
    "plt.show()"
   ]
  },
  {
   "cell_type": "code",
   "execution_count": 53,
   "metadata": {
    "colab": {
     "base_uri": "https://localhost:8080/",
     "height": 295
    },
    "id": "3AJUUpA1Qw1f",
    "outputId": "f4764cf4-4fdb-46f3-9845-9ffcda86d942"
   },
   "outputs": [
    {
     "data": {
      "image/png": "[encoded data removed]",
      "text/plain": [
       "<Figure size 432x288 with 1 Axes>"
      ]
     },
     "metadata": {
      "needs_background": "light"
     },
     "output_type": "display_data"
    }
   ],
   "source": [
    "plt.plot(r.history['val_accuracy'])\n",
    "plt.title('Validation Accuracy')\n",
    "plt.xlabel('Epoch')\n",
    "plt.ylabel('Validation Accuracy')\n",
    "\n",
    "plt.show()"
   ]
  },
  {
   "cell_type": "code",
   "execution_count": 54,
   "metadata": {
    "colab": {
     "base_uri": "https://localhost:8080/",
     "height": 295
    },
    "id": "m_nnWxqxS0ca",
    "outputId": "127f46e4-8ab3-443f-a534-cd8b777699d7"
   },
   "outputs": [
    {
     "data": {
      "image/png": "[encoded data removed]",
      "text/plain": [
       "<Figure size 432x288 with 1 Axes>"
      ]
     },
     "metadata": {
      "needs_background": "light"
     },
     "output_type": "display_data"
    }
   ],
   "source": [
    "plt.plot(r.history['val_loss'])\n",
    "plt.title('Validation Loss')\n",
    "plt.xlabel('Epoch')\n",
    "plt.ylabel('Validation Loss')\n",
    "\n",
    "plt.show()"
   ]
  },
  {
   "cell_type": "code",
   "execution_count": 55,
   "metadata": {
    "id": "V1P2A_9eoBds"
   },
   "outputs": [],
   "source": [
    "decoder_state_input_h = Input(shape=(LSTM_NODES,))\n",
    "decoder_state_input_c = Input(shape=(LSTM_NODES,))\n",
    "decoder_states_inputs = [decoder_state_input_h, decoder_state_input_c]"
   ]
  },
  {
   "cell_type": "code",
   "execution_count": 56,
   "metadata": {
    "id": "FRIMhcJ3oGwb"
   },
   "outputs": [],
   "source": [
    "decoder_inputs_single = Input(shape=(1,))\n",
    "decoder_inputs_single_x = decoder_embedding(decoder_inputs_single)"
   ]
  },
  {
   "cell_type": "code",
   "execution_count": 57,
   "metadata": {
    "id": "b_rVkKl2oHud"
   },
   "outputs": [],
   "source": [
    "decoder_outputs, h, c = decoder_lstm(decoder_inputs_single_x, initial_state=decoder_states_inputs)"
   ]
  },
  {
   "cell_type": "code",
   "execution_count": 58,
   "metadata": {
    "id": "ezfd9rkyoKjr"
   },
   "outputs": [],
   "source": [
    "decoder_states = [h, c]\n",
    "decoder_outputs = decoder_dense(decoder_outputs)"
   ]
  },
  {
   "cell_type": "code",
   "execution_count": 59,
   "metadata": {
    "id": "8VngFJD_oM6N"
   },
   "outputs": [],
   "source": [
    "decoder_model = Model(\n",
    "    [decoder_inputs_single] + decoder_states_inputs,\n",
    "    [decoder_outputs] + decoder_states)"
   ]
  },
  {
   "cell_type": "code",
   "execution_count": 61,
   "metadata": {
    "id": "Pq6Smj2xobad"
   },
   "outputs": [],
   "source": [
    "index_input_word = {v:k for k, v in input_word_index.items()}\n",
    "index_target_word = {v:k for k, v in output_word_index.items()}"
   ]
  },
  {
   "cell_type": "code",
   "execution_count": 62,
   "metadata": {
    "id": "OVrQqUvUogKo"
   },
   "outputs": [],
   "source": [
    "def translate_sentence(input_seq):\n",
    "    states_value = encoder_model.predict(input_seq)\n",
    "    target_seq = np.zeros((1, 1))\n",
    "    target_seq[0, 0] = output_word_index['<sos>']\n",
    "    eos = output_word_index['<eos>']\n",
    "    output_sentence = []\n",
    "\n",
    "    for _ in range(max_out_len):\n",
    "        output_tokens, h, c = decoder_model.predict([target_seq] + states_value)\n",
    "        idx = np.argmax(output_tokens[0, 0, :])\n",
    "\n",
    "        if eos == idx:\n",
    "            break\n",
    "\n",
    "        word = ''\n",
    "\n",
    "        if idx > 0:\n",
    "            word = index_target_word[idx]\n",
    "            output_sentence.append(word)\n",
    "\n",
    "        target_seq[0, 0] = idx\n",
    "        states_value = [h, c]\n",
    "\n",
    "    return ' '.join(output_sentence)"
   ]
  },
  {
   "cell_type": "code",
   "execution_count": 74,
   "metadata": {
    "colab": {
     "base_uri": "https://localhost:8080/"
    },
    "id": "pBUu7-Gfokpg",
    "outputId": "18066d51-f3b8-4b16-f493-8371f4b4411a"
   },
   "outputs": [
    {
     "name": "stdout",
     "output_type": "stream",
     "text": [
      "Randomly chosen input sentence: Tom looks awful.\n",
      "Translated sentence: tom sieht schlecht aus.\n"
     ]
    }
   ],
   "source": [
    "i = np.random.choice(len(Input_list))\n",
    "input_seq = encoder_padded_input_sequence[i:i+1]\n",
    "translation = translate_sentence(input_seq)\n",
    "\n",
    "print('Randomly chosen input sentence:', Input_list[i])\n",
    "print('Translated sentence:', translation)\n",
    "\n"
   ]
  }
 ],
 "metadata": {
  "colab": {
   "collapsed_sections": [],
   "name": "Translator_Eng_to_Ger (1).ipynb",
   "provenance": []
  },
  "kernelspec": {
   "display_name": "Python 3",
   "language": "python",
   "name": "python3"
  },
  "language_info": {
   "codemirror_mode": {
    "name": "ipython",
    "version": 3
   },
   "file_extension": ".py",
   "mimetype": "text/x-python",
   "name": "python",
   "nbconvert_exporter": "python",
   "pygments_lexer": "ipython3",
   "version": "3.8.5"
  },
  "varInspector": {
   "cols": {
    "lenName": 16,
    "lenType": 16,
    "lenVar": 40
   },
   "kernels_config": {
    "python": {
     "delete_cmd_postfix": "",
     "delete_cmd_prefix": "del ",
     "library": "var_list.py",
     "varRefreshCmd": "print(var_dic_list())"
    },
    "r": {
     "delete_cmd_postfix": ") ",
     "delete_cmd_prefix": "rm(",
     "library": "var_list.r",
     "varRefreshCmd": "cat(var_dic_list()) "
    }
   },
   "types_to_exclude": [
    "module",
    "function",
    "builtin_function_or_method",
    "instance",
    "_Feature"
   ],
   "window_display": false
  }
 },
 "nbformat": 4,
 "nbformat_minor": 1
}
