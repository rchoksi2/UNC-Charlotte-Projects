{
 "cells": [
  {
   "cell_type": "markdown",
   "metadata": {
    "id": "df47eCT8961F"
   },
   "source": [
    "# Training Encoder Decoder Model"
   ]
  },
  {
   "cell_type": "code",
   "execution_count": 1,
   "metadata": {
    "id": "c0b45f7c-c38d-466f-a5f4-375f09af651d"
   },
   "outputs": [],
   "source": [
    "import pandas as pd\n",
    "import numpy as np\n",
    "from sklearn.model_selection import train_test_split\n",
    "import os"
   ]
  },
  {
   "cell_type": "code",
   "execution_count": 2,
   "metadata": {
    "id": "e8c5a33e-fc53-4cca-aeef-0028b69d2ad2"
   },
   "outputs": [],
   "source": [
    "df= pd.read_csv('deu.txt', sep='\\t', usecols=[0, 1])"
   ]
  },
  {
   "cell_type": "code",
   "execution_count": 3,
   "metadata": {},
   "outputs": [],
   "source": [
    "df = df.iloc[:50000]"
   ]
  },
  {
   "cell_type": "code",
   "execution_count": 4,
   "metadata": {
    "id": "40397cd7-d8ec-41f1-837f-a3bdeeae704a"
   },
   "outputs": [
    {
     "data": {
      "text/html": [
       "<div>\n",
       "<style scoped>\n",
       "    .dataframe tbody tr th:only-of-type {\n",
       "        vertical-align: middle;\n",
       "    }\n",
       "\n",
       "    .dataframe tbody tr th {\n",
       "        vertical-align: top;\n",
       "    }\n",
       "\n",
       "    .dataframe thead th {\n",
       "        text-align: right;\n",
       "    }\n",
       "</style>\n",
       "<table border=\"1\" class=\"dataframe\">\n",
       "  <thead>\n",
       "    <tr style=\"text-align: right;\">\n",
       "      <th></th>\n",
       "      <th>Go.</th>\n",
       "      <th>Geh.</th>\n",
       "    </tr>\n",
       "  </thead>\n",
       "  <tbody>\n",
       "    <tr>\n",
       "      <th>49995</th>\n",
       "      <td>No one encouraged Tom.</td>\n",
       "      <td>Niemand bestärkte Tom.</td>\n",
       "    </tr>\n",
       "    <tr>\n",
       "      <th>49996</th>\n",
       "      <td>No one encouraged her.</td>\n",
       "      <td>Niemand ermutigte sie.</td>\n",
       "    </tr>\n",
       "    <tr>\n",
       "      <th>49997</th>\n",
       "      <td>No one has that right.</td>\n",
       "      <td>Niemand hat dieses Recht.</td>\n",
       "    </tr>\n",
       "    <tr>\n",
       "      <th>49998</th>\n",
       "      <td>No one has that right.</td>\n",
       "      <td>Dieses Recht hat niemand.</td>\n",
       "    </tr>\n",
       "    <tr>\n",
       "      <th>49999</th>\n",
       "      <td>No one here has a car.</td>\n",
       "      <td>Hier hat niemand ein Auto.</td>\n",
       "    </tr>\n",
       "  </tbody>\n",
       "</table>\n",
       "</div>"
      ],
      "text/plain": [
       "                          Go.                        Geh.\n",
       "49995  No one encouraged Tom.      Niemand bestärkte Tom.\n",
       "49996  No one encouraged her.      Niemand ermutigte sie.\n",
       "49997  No one has that right.   Niemand hat dieses Recht.\n",
       "49998  No one has that right.   Dieses Recht hat niemand.\n",
       "49999  No one here has a car.  Hier hat niemand ein Auto."
      ]
     },
     "execution_count": 4,
     "metadata": {},
     "output_type": "execute_result"
    }
   ],
   "source": [
    "df.tail()"
   ]
  },
  {
   "cell_type": "code",
   "execution_count": 5,
   "metadata": {},
   "outputs": [],
   "source": [
    "df.rename(columns = {'Go.':'English', 'Geh.':'German'}, inplace = True)"
   ]
  },
  {
   "cell_type": "code",
   "execution_count": 6,
   "metadata": {},
   "outputs": [
    {
     "data": {
      "text/html": [
       "<div>\n",
       "<style scoped>\n",
       "    .dataframe tbody tr th:only-of-type {\n",
       "        vertical-align: middle;\n",
       "    }\n",
       "\n",
       "    .dataframe tbody tr th {\n",
       "        vertical-align: top;\n",
       "    }\n",
       "\n",
       "    .dataframe thead th {\n",
       "        text-align: right;\n",
       "    }\n",
       "</style>\n",
       "<table border=\"1\" class=\"dataframe\">\n",
       "  <thead>\n",
       "    <tr style=\"text-align: right;\">\n",
       "      <th></th>\n",
       "      <th>English</th>\n",
       "      <th>German</th>\n",
       "    </tr>\n",
       "  </thead>\n",
       "  <tbody>\n",
       "    <tr>\n",
       "      <th>49995</th>\n",
       "      <td>No one encouraged Tom.</td>\n",
       "      <td>Niemand bestärkte Tom.</td>\n",
       "    </tr>\n",
       "    <tr>\n",
       "      <th>49996</th>\n",
       "      <td>No one encouraged her.</td>\n",
       "      <td>Niemand ermutigte sie.</td>\n",
       "    </tr>\n",
       "    <tr>\n",
       "      <th>49997</th>\n",
       "      <td>No one has that right.</td>\n",
       "      <td>Niemand hat dieses Recht.</td>\n",
       "    </tr>\n",
       "    <tr>\n",
       "      <th>49998</th>\n",
       "      <td>No one has that right.</td>\n",
       "      <td>Dieses Recht hat niemand.</td>\n",
       "    </tr>\n",
       "    <tr>\n",
       "      <th>49999</th>\n",
       "      <td>No one here has a car.</td>\n",
       "      <td>Hier hat niemand ein Auto.</td>\n",
       "    </tr>\n",
       "  </tbody>\n",
       "</table>\n",
       "</div>"
      ],
      "text/plain": [
       "                      English                      German\n",
       "49995  No one encouraged Tom.      Niemand bestärkte Tom.\n",
       "49996  No one encouraged her.      Niemand ermutigte sie.\n",
       "49997  No one has that right.   Niemand hat dieses Recht.\n",
       "49998  No one has that right.   Dieses Recht hat niemand.\n",
       "49999  No one here has a car.  Hier hat niemand ein Auto."
      ]
     },
     "execution_count": 6,
     "metadata": {},
     "output_type": "execute_result"
    }
   ],
   "source": [
    "df.tail()"
   ]
  },
  {
   "cell_type": "code",
   "execution_count": 7,
   "metadata": {
    "id": "15104303-ee91-4eff-bc9c-ed47916f4481"
   },
   "outputs": [],
   "source": [
    "df.German = df.German.apply(lambda x: 'sos '+ x +' eos')"
   ]
  },
  {
   "cell_type": "code",
   "execution_count": 8,
   "metadata": {
    "id": "4b74e168-0c03-4ab3-8147-e4efe7f35b33"
   },
   "outputs": [],
   "source": [
    "eng_vocab= set()\n",
    "for sent in df.English:\n",
    "    for word in sent.split():\n",
    "        if word not in eng_vocab:\n",
    "            eng_vocab.add(word)"
   ]
  },
  {
   "cell_type": "code",
   "execution_count": 9,
   "metadata": {
    "id": "475ba93e-2bd7-4b60-a23d-e72529aed56c"
   },
   "outputs": [],
   "source": [
    "ger_vocab= set()\n",
    "for sent in df.German:\n",
    "    for word in sent.split():\n",
    "        if word not in ger_vocab:\n",
    "            ger_vocab.add(word)"
   ]
  },
  {
   "cell_type": "code",
   "execution_count": 10,
   "metadata": {
    "id": "93e0d31a-4974-4c3d-92b0-78655700ecfe"
   },
   "outputs": [
    {
     "data": {
      "text/plain": [
       "(10152, 16637)"
      ]
     },
     "execution_count": 10,
     "metadata": {},
     "output_type": "execute_result"
    }
   ],
   "source": [
    "len(eng_vocab), len(ger_vocab), "
   ]
  },
  {
   "cell_type": "code",
   "execution_count": 11,
   "metadata": {
    "id": "b2e7b595-9a5a-41b8-86bd-08918e5dcc56"
   },
   "outputs": [
    {
     "name": "stdout",
     "output_type": "stream",
     "text": [
      "10153\n",
      "16638\n"
     ]
    }
   ],
   "source": [
    "# for zero padding add 1 in them\n",
    "ENG_VOCAB_SIZE= len(eng_vocab)+1\n",
    "GER_VOCAB_SIZE= len(ger_vocab)+1\n",
    "print(ENG_VOCAB_SIZE)\n",
    "print(GER_VOCAB_SIZE)\n"
   ]
  },
  {
   "cell_type": "markdown",
   "metadata": {
    "id": "e0c840cd-2c39-4209-815a-eda5185d8392"
   },
   "source": [
    "#### First we need sorted words list"
   ]
  },
  {
   "cell_type": "code",
   "execution_count": 12,
   "metadata": {
    "id": "303bef8d-dfd4-4e0d-a9ea-f2cc513b5fc2"
   },
   "outputs": [],
   "source": [
    "eng_words = sorted(list(eng_vocab))\n",
    "ger_words = sorted(list(ger_vocab))"
   ]
  },
  {
   "cell_type": "markdown",
   "metadata": {
    "id": "f36966f2-c5ac-4879-be50-be3d4b00b61c"
   },
   "source": [
    "#### Word to number"
   ]
  },
  {
   "cell_type": "code",
   "execution_count": 13,
   "metadata": {
    "id": "28320197-95ff-4a08-83eb-66454e0916a5"
   },
   "outputs": [],
   "source": [
    "eng_word_index = dict((w, i) for i, w in enumerate(eng_words))\n",
    "ger_word_index = dict((w, i) for i, w in enumerate(ger_words))"
   ]
  },
  {
   "cell_type": "markdown",
   "metadata": {
    "id": "f5e5870f-6b8b-4dc7-828b-99165eb564f7"
   },
   "source": [
    "#### Number to word\n"
   ]
  },
  {
   "cell_type": "code",
   "execution_count": 15,
   "metadata": {
    "id": "19a875ee-0995-4b8c-bfc5-934016c4e6cc"
   },
   "outputs": [],
   "source": [
    "eng_index_word = dict((i, w) for i, w in enumerate(eng_words))\n",
    "ger_index_word = dict((i,w) for i, w in enumerate(ger_words))"
   ]
  },
  {
   "cell_type": "markdown",
   "metadata": {
    "id": "aae52575-dc0e-49cc-b092-02fa4b38f8f3"
   },
   "source": [
    "### Train test split"
   ]
  },
  {
   "cell_type": "code",
   "execution_count": 17,
   "metadata": {
    "id": "4f1f048e-478f-4cb9-9709-a063f5a9f832"
   },
   "outputs": [],
   "source": [
    "X_train, X_test, y_train, y_test= train_test_split(df.English, df.German, test_size=0.1, random_state=0)"
   ]
  },
  {
   "cell_type": "code",
   "execution_count": 18,
   "metadata": {
    "id": "33bea87a-2739-43fb-97de-7eea2fd2bc95"
   },
   "outputs": [
    {
     "data": {
      "text/plain": [
       "((45000,), (5000,), (45000,), (5000,))"
      ]
     },
     "execution_count": 18,
     "metadata": {},
     "output_type": "execute_result"
    }
   ],
   "source": [
    "X_train.shape, X_test.shape, y_train.shape, y_test.shape"
   ]
  },
  {
   "cell_type": "code",
   "execution_count": 19,
   "metadata": {
    "id": "KmQkNBlywVnU"
   },
   "outputs": [],
   "source": [
    "\n",
    "eng_len_list=df.English.apply(lambda x: len(x.split())).to_list()\n",
    "\n",
    "ger_len_list=df.German.apply(lambda x: len(x.split())).to_list()\n"
   ]
  },
  {
   "cell_type": "code",
   "execution_count": 20,
   "metadata": {
    "id": "0jjZ9wIpw4z3"
   },
   "outputs": [
    {
     "data": {
      "text/plain": [
       "(17, 7)"
      ]
     },
     "execution_count": 20,
     "metadata": {},
     "output_type": "execute_result"
    }
   ],
   "source": [
    "np.max(ger_len_list), np.max(eng_len_list)"
   ]
  },
  {
   "cell_type": "code",
   "execution_count": 21,
   "metadata": {
    "id": "25658248-98a8-48de-88e5-8d0ad1c1ccf9"
   },
   "outputs": [],
   "source": [
    "BATCH_SIZE= 64\n",
    "max_eng_len =  np.max(eng_len_list)\n",
    "max_ger_len =  np.max(ger_len_list)"
   ]
  },
  {
   "cell_type": "code",
   "execution_count": 22,
   "metadata": {
    "id": "qM1VRPLkxgkg"
   },
   "outputs": [
    {
     "data": {
      "text/plain": [
       "(7, 17)"
      ]
     },
     "execution_count": 22,
     "metadata": {},
     "output_type": "execute_result"
    }
   ],
   "source": [
    "max_eng_len, max_ger_len"
   ]
  },
  {
   "cell_type": "code",
   "execution_count": 23,
   "metadata": {
    "id": "578042e4-1fb3-490f-815d-1560be84bb39"
   },
   "outputs": [],
   "source": [
    "def data_batch_generator(x, y, batch_size=BATCH_SIZE):\n",
    "    while True:\n",
    "        for i in range(0, len(x), batch_size):\n",
    "            encoder_input_data = np.zeros((batch_size,max_eng_len ), dtype='float32')\n",
    "            decoder_input_data = np.zeros((batch_size, max_ger_len), dtype='float32')\n",
    "            decoder_target_data = np.zeros((batch_size, max_ger_len, GER_VOCAB_SIZE), dtype='float32' )\n",
    "            for j, (eng_text, ger_text) in enumerate(zip(x[i:i+batch_size], y[i:i+batch_size])):\n",
    "                for t , word in enumerate(eng_text.split()):\n",
    "                    encoder_input_data[j,t] = eng_word_index[word]\n",
    "                for t, word in enumerate(ger_text.split()):\n",
    "                    if t < len(ger_text.split()) - 1:\n",
    "                        decoder_input_data[j,t]= ger_word_index[word]\n",
    "                    if t>0: \n",
    "                        decoder_target_data[j,t-1, ger_word_index[word]] = 1.\n",
    "            yield ([encoder_input_data, decoder_input_data], decoder_target_data)      \n",
    "            "
   ]
  },
  {
   "cell_type": "code",
   "execution_count": 24,
   "metadata": {
    "id": "549a9719-6cfa-45e8-8b0b-6a8d54f8a4dd"
   },
   "outputs": [],
   "source": [
    "from tensorflow.keras.layers import LSTM, Dropout, Dense, Embedding\n",
    "from tensorflow.keras import Input, Model"
   ]
  },
  {
   "cell_type": "code",
   "execution_count": 25,
   "metadata": {
    "id": "571de098-9471-46c3-85df-9e8a330c0b14"
   },
   "outputs": [],
   "source": [
    "\n",
    "encoder_input = Input(shape=(None, ))\n",
    "encoder_embd = Embedding(ENG_VOCAB_SIZE,100, mask_zero=True)(encoder_input)\n",
    "encoder_lstm = LSTM(100, return_state=True)\n",
    "encoder_output,state_h, state_c = encoder_lstm(encoder_embd)\n",
    "encoder_states= [state_h, state_c]\n",
    "\n",
    "\n",
    "\n",
    "\n",
    "\n",
    "decoder_input = Input(shape=(None,))\n",
    "decoder_embd = Embedding(GER_VOCAB_SIZE, 100, mask_zero=True)\n",
    "decoder_embedding= decoder_embd(decoder_input)\n",
    "decoder_lstm = LSTM(100, return_state=True,return_sequences=True )\n",
    "decoder_outputs, _, _= decoder_lstm(decoder_embedding, initial_state=encoder_states)\n",
    "decoder_dense= Dense(GER_VOCAB_SIZE, activation='softmax')\n",
    "decoder_outputs = decoder_dense(decoder_outputs)\n",
    "model1 = Model([encoder_input, decoder_input], decoder_outputs)"
   ]
  },
  {
   "cell_type": "code",
   "execution_count": 27,
   "metadata": {
    "colab": {
     "base_uri": "https://localhost:8080/",
     "height": 533
    },
    "id": "a7a63875-09b7-42a7-ac9a-388709d1f030",
    "outputId": "e7360f26-b774-4607-9a14-ceae9f02123c"
   },
   "outputs": [
    {
     "name": "stdout",
     "output_type": "stream",
     "text": [
      "You must install pydot (`pip install pydot`) and install graphviz (see instructions at https://graphviz.gitlab.io/download/) for plot_model/model_to_dot to work.\n"
     ]
    }
   ],
   "source": [
    "from tensorflow.keras.utils import  plot_model\n",
    "from tensorflow.keras.callbacks import ModelCheckpoint, EarlyStopping\n",
    "plot_model(model1,show_shapes=True)"
   ]
  },
  {
   "cell_type": "code",
   "execution_count": 28,
   "metadata": {
    "id": "bb955cbf-fd5c-4c9a-8ade-3ba801a9fe42"
   },
   "outputs": [],
   "source": [
    "model1.compile(optimizer='adam', loss='categorical_crossentropy', metrics='accuracy')"
   ]
  },
  {
   "cell_type": "code",
   "execution_count": 29,
   "metadata": {
    "id": "M0VaoiMfNARW"
   },
   "outputs": [],
   "source": [
    "checkpoint = ModelCheckpoint(\"/content/drive/MyDrive/rnn/machine_translation/Encoder_Decoder/model_checkpoints/\", monitor='val_accuracy')\n",
    "\n",
    "early_stopping = EarlyStopping(monitor='val_accuracy', patience=5)\n",
    "\n",
    "callbacks_list = [checkpoint, early_stopping]"
   ]
  },
  {
   "cell_type": "code",
   "execution_count": 30,
   "metadata": {
    "id": "20a44f08-c97f-499a-9a19-10e1a3bdd87d"
   },
   "outputs": [],
   "source": [
    "steps_per_epoch= np.ceil(len(X_train)/BATCH_SIZE)\n",
    "steps_per_epoch_val = np.ceil(len(X_train)/BATCH_SIZE)"
   ]
  },
  {
   "cell_type": "code",
   "execution_count": 31,
   "metadata": {
    "colab": {
     "base_uri": "https://localhost:8080/"
    },
    "id": "T_LoE9qlrmxW",
    "outputId": "8f9a6850-3630-4775-9d45-16e7001d83c7"
   },
   "outputs": [
    {
     "data": {
      "text/plain": [
       "704.0"
      ]
     },
     "execution_count": 31,
     "metadata": {},
     "output_type": "execute_result"
    }
   ],
   "source": [
    "steps_per_epoch"
   ]
  },
  {
   "cell_type": "code",
   "execution_count": 32,
   "metadata": {
    "colab": {
     "base_uri": "https://localhost:8080/"
    },
    "id": "NyudmuhTr6iA",
    "outputId": "eca4dffc-81e5-4b83-8ac2-f5f54e0417c8"
   },
   "outputs": [
    {
     "data": {
      "text/plain": [
       "10"
      ]
     },
     "execution_count": 32,
     "metadata": {},
     "output_type": "execute_result"
    }
   ],
   "source": [
    "EPOCHS= 10 #@param {type:'slider',min:10,max:100, step:10 }\n",
    "EPOCHS"
   ]
  },
  {
   "cell_type": "code",
   "execution_count": 33,
   "metadata": {
    "colab": {
     "base_uri": "https://localhost:8080/"
    },
    "id": "29a3ac8d-6db9-4620-acea-4ffdb2c4d3ce",
    "outputId": "905fe615-72ea-4a7e-cf9e-b53c7aab6edb"
   },
   "outputs": [
    {
     "name": "stdout",
     "output_type": "stream",
     "text": [
      "Epoch 1/10\n",
      "704/704 [==============================] - ETA: 0s - loss: 1.6551 - accuracy: 0.2696"
     ]
    },
    {
     "name": "stderr",
     "output_type": "stream",
     "text": [
      "WARNING:absl:Found untraced functions such as lstm_cell_layer_call_fn, lstm_cell_layer_call_and_return_conditional_losses, lstm_cell_1_layer_call_fn, lstm_cell_1_layer_call_and_return_conditional_losses while saving (showing 4 of 4). These functions will not be directly callable after loading.\n"
     ]
    },
    {
     "name": "stdout",
     "output_type": "stream",
     "text": [
      "INFO:tensorflow:Assets written to: /content/drive/MyDrive/rnn/machine_translation/Encoder_Decoder/model_checkpoints\\assets\n"
     ]
    },
    {
     "name": "stderr",
     "output_type": "stream",
     "text": [
      "INFO:tensorflow:Assets written to: /content/drive/MyDrive/rnn/machine_translation/Encoder_Decoder/model_checkpoints\\assets\n",
      "WARNING:absl:<keras.layers.recurrent.LSTMCell object at 0x0000026748B9DD00> has the same name 'LSTMCell' as a built-in Keras object. Consider renaming <class 'keras.layers.recurrent.LSTMCell'> to avoid naming conflicts when loading with `tf.keras.models.load_model`. If renaming is not possible, pass the object in the `custom_objects` parameter of the load function.\n",
      "WARNING:absl:<keras.layers.recurrent.LSTMCell object at 0x00000267490BB0A0> has the same name 'LSTMCell' as a built-in Keras object. Consider renaming <class 'keras.layers.recurrent.LSTMCell'> to avoid naming conflicts when loading with `tf.keras.models.load_model`. If renaming is not possible, pass the object in the `custom_objects` parameter of the load function.\n"
     ]
    },
    {
     "name": "stdout",
     "output_type": "stream",
     "text": [
      "704/704 [==============================] - 265s 368ms/step - loss: 1.6551 - accuracy: 0.2696 - val_loss: 1.3925 - val_accuracy: 0.3434\n",
      "Epoch 2/10\n",
      "704/704 [==============================] - ETA: 0s - loss: 1.2812 - accuracy: 0.3798"
     ]
    },
    {
     "name": "stderr",
     "output_type": "stream",
     "text": [
      "WARNING:absl:Found untraced functions such as lstm_cell_layer_call_fn, lstm_cell_layer_call_and_return_conditional_losses, lstm_cell_1_layer_call_fn, lstm_cell_1_layer_call_and_return_conditional_losses while saving (showing 4 of 4). These functions will not be directly callable after loading.\n"
     ]
    },
    {
     "name": "stdout",
     "output_type": "stream",
     "text": [
      "INFO:tensorflow:Assets written to: /content/drive/MyDrive/rnn/machine_translation/Encoder_Decoder/model_checkpoints\\assets\n"
     ]
    },
    {
     "name": "stderr",
     "output_type": "stream",
     "text": [
      "INFO:tensorflow:Assets written to: /content/drive/MyDrive/rnn/machine_translation/Encoder_Decoder/model_checkpoints\\assets\n",
      "WARNING:absl:<keras.layers.recurrent.LSTMCell object at 0x0000026748B9DD00> has the same name 'LSTMCell' as a built-in Keras object. Consider renaming <class 'keras.layers.recurrent.LSTMCell'> to avoid naming conflicts when loading with `tf.keras.models.load_model`. If renaming is not possible, pass the object in the `custom_objects` parameter of the load function.\n",
      "WARNING:absl:<keras.layers.recurrent.LSTMCell object at 0x00000267490BB0A0> has the same name 'LSTMCell' as a built-in Keras object. Consider renaming <class 'keras.layers.recurrent.LSTMCell'> to avoid naming conflicts when loading with `tf.keras.models.load_model`. If renaming is not possible, pass the object in the `custom_objects` parameter of the load function.\n"
     ]
    },
    {
     "name": "stdout",
     "output_type": "stream",
     "text": [
      "704/704 [==============================] - 274s 390ms/step - loss: 1.2812 - accuracy: 0.3798 - val_loss: 1.2415 - val_accuracy: 0.4034\n",
      "Epoch 3/10\n",
      "704/704 [==============================] - ETA: 0s - loss: 1.1430 - accuracy: 0.4282"
     ]
    },
    {
     "name": "stderr",
     "output_type": "stream",
     "text": [
      "WARNING:absl:Found untraced functions such as lstm_cell_layer_call_fn, lstm_cell_layer_call_and_return_conditional_losses, lstm_cell_1_layer_call_fn, lstm_cell_1_layer_call_and_return_conditional_losses while saving (showing 4 of 4). These functions will not be directly callable after loading.\n"
     ]
    },
    {
     "name": "stdout",
     "output_type": "stream",
     "text": [
      "INFO:tensorflow:Assets written to: /content/drive/MyDrive/rnn/machine_translation/Encoder_Decoder/model_checkpoints\\assets\n"
     ]
    },
    {
     "name": "stderr",
     "output_type": "stream",
     "text": [
      "INFO:tensorflow:Assets written to: /content/drive/MyDrive/rnn/machine_translation/Encoder_Decoder/model_checkpoints\\assets\n",
      "WARNING:absl:<keras.layers.recurrent.LSTMCell object at 0x0000026748B9DD00> has the same name 'LSTMCell' as a built-in Keras object. Consider renaming <class 'keras.layers.recurrent.LSTMCell'> to avoid naming conflicts when loading with `tf.keras.models.load_model`. If renaming is not possible, pass the object in the `custom_objects` parameter of the load function.\n",
      "WARNING:absl:<keras.layers.recurrent.LSTMCell object at 0x00000267490BB0A0> has the same name 'LSTMCell' as a built-in Keras object. Consider renaming <class 'keras.layers.recurrent.LSTMCell'> to avoid naming conflicts when loading with `tf.keras.models.load_model`. If renaming is not possible, pass the object in the `custom_objects` parameter of the load function.\n"
     ]
    },
    {
     "name": "stdout",
     "output_type": "stream",
     "text": [
      "704/704 [==============================] - 283s 402ms/step - loss: 1.1430 - accuracy: 0.4282 - val_loss: 1.1459 - val_accuracy: 0.4439\n",
      "Epoch 4/10\n",
      "704/704 [==============================] - ETA: 0s - loss: 1.0305 - accuracy: 0.4670"
     ]
    },
    {
     "name": "stderr",
     "output_type": "stream",
     "text": [
      "WARNING:absl:Found untraced functions such as lstm_cell_layer_call_fn, lstm_cell_layer_call_and_return_conditional_losses, lstm_cell_1_layer_call_fn, lstm_cell_1_layer_call_and_return_conditional_losses while saving (showing 4 of 4). These functions will not be directly callable after loading.\n"
     ]
    },
    {
     "name": "stdout",
     "output_type": "stream",
     "text": [
      "INFO:tensorflow:Assets written to: /content/drive/MyDrive/rnn/machine_translation/Encoder_Decoder/model_checkpoints\\assets\n"
     ]
    },
    {
     "name": "stderr",
     "output_type": "stream",
     "text": [
      "INFO:tensorflow:Assets written to: /content/drive/MyDrive/rnn/machine_translation/Encoder_Decoder/model_checkpoints\\assets\n",
      "WARNING:absl:<keras.layers.recurrent.LSTMCell object at 0x0000026748B9DD00> has the same name 'LSTMCell' as a built-in Keras object. Consider renaming <class 'keras.layers.recurrent.LSTMCell'> to avoid naming conflicts when loading with `tf.keras.models.load_model`. If renaming is not possible, pass the object in the `custom_objects` parameter of the load function.\n",
      "WARNING:absl:<keras.layers.recurrent.LSTMCell object at 0x00000267490BB0A0> has the same name 'LSTMCell' as a built-in Keras object. Consider renaming <class 'keras.layers.recurrent.LSTMCell'> to avoid naming conflicts when loading with `tf.keras.models.load_model`. If renaming is not possible, pass the object in the `custom_objects` parameter of the load function.\n"
     ]
    },
    {
     "name": "stdout",
     "output_type": "stream",
     "text": [
      "704/704 [==============================] - 285s 404ms/step - loss: 1.0305 - accuracy: 0.4670 - val_loss: 1.0667 - val_accuracy: 0.4736\n",
      "Epoch 5/10\n",
      "704/704 [==============================] - ETA: 0s - loss: 0.9307 - accuracy: 0.5005"
     ]
    },
    {
     "name": "stderr",
     "output_type": "stream",
     "text": [
      "WARNING:absl:Found untraced functions such as lstm_cell_layer_call_fn, lstm_cell_layer_call_and_return_conditional_losses, lstm_cell_1_layer_call_fn, lstm_cell_1_layer_call_and_return_conditional_losses while saving (showing 4 of 4). These functions will not be directly callable after loading.\n"
     ]
    },
    {
     "name": "stdout",
     "output_type": "stream",
     "text": [
      "INFO:tensorflow:Assets written to: /content/drive/MyDrive/rnn/machine_translation/Encoder_Decoder/model_checkpoints\\assets\n"
     ]
    },
    {
     "name": "stderr",
     "output_type": "stream",
     "text": [
      "INFO:tensorflow:Assets written to: /content/drive/MyDrive/rnn/machine_translation/Encoder_Decoder/model_checkpoints\\assets\n",
      "WARNING:absl:<keras.layers.recurrent.LSTMCell object at 0x0000026748B9DD00> has the same name 'LSTMCell' as a built-in Keras object. Consider renaming <class 'keras.layers.recurrent.LSTMCell'> to avoid naming conflicts when loading with `tf.keras.models.load_model`. If renaming is not possible, pass the object in the `custom_objects` parameter of the load function.\n",
      "WARNING:absl:<keras.layers.recurrent.LSTMCell object at 0x00000267490BB0A0> has the same name 'LSTMCell' as a built-in Keras object. Consider renaming <class 'keras.layers.recurrent.LSTMCell'> to avoid naming conflicts when loading with `tf.keras.models.load_model`. If renaming is not possible, pass the object in the `custom_objects` parameter of the load function.\n"
     ]
    },
    {
     "name": "stdout",
     "output_type": "stream",
     "text": [
      "704/704 [==============================] - 307s 436ms/step - loss: 0.9307 - accuracy: 0.5005 - val_loss: 1.0042 - val_accuracy: 0.4979\n",
      "Epoch 6/10\n",
      "704/704 [==============================] - ETA: 0s - loss: 0.8449 - accuracy: 0.5294"
     ]
    },
    {
     "name": "stderr",
     "output_type": "stream",
     "text": [
      "WARNING:absl:Found untraced functions such as lstm_cell_layer_call_fn, lstm_cell_layer_call_and_return_conditional_losses, lstm_cell_1_layer_call_fn, lstm_cell_1_layer_call_and_return_conditional_losses while saving (showing 4 of 4). These functions will not be directly callable after loading.\n"
     ]
    },
    {
     "name": "stdout",
     "output_type": "stream",
     "text": [
      "INFO:tensorflow:Assets written to: /content/drive/MyDrive/rnn/machine_translation/Encoder_Decoder/model_checkpoints\\assets\n"
     ]
    },
    {
     "name": "stderr",
     "output_type": "stream",
     "text": [
      "INFO:tensorflow:Assets written to: /content/drive/MyDrive/rnn/machine_translation/Encoder_Decoder/model_checkpoints\\assets\n",
      "WARNING:absl:<keras.layers.recurrent.LSTMCell object at 0x0000026748B9DD00> has the same name 'LSTMCell' as a built-in Keras object. Consider renaming <class 'keras.layers.recurrent.LSTMCell'> to avoid naming conflicts when loading with `tf.keras.models.load_model`. If renaming is not possible, pass the object in the `custom_objects` parameter of the load function.\n",
      "WARNING:absl:<keras.layers.recurrent.LSTMCell object at 0x00000267490BB0A0> has the same name 'LSTMCell' as a built-in Keras object. Consider renaming <class 'keras.layers.recurrent.LSTMCell'> to avoid naming conflicts when loading with `tf.keras.models.load_model`. If renaming is not possible, pass the object in the `custom_objects` parameter of the load function.\n"
     ]
    },
    {
     "name": "stdout",
     "output_type": "stream",
     "text": [
      "704/704 [==============================] - 315s 448ms/step - loss: 0.8449 - accuracy: 0.5294 - val_loss: 0.9551 - val_accuracy: 0.5150\n",
      "Epoch 7/10\n",
      "704/704 [==============================] - ETA: 0s - loss: 0.7695 - accuracy: 0.5559"
     ]
    },
    {
     "name": "stderr",
     "output_type": "stream",
     "text": [
      "WARNING:absl:Found untraced functions such as lstm_cell_layer_call_fn, lstm_cell_layer_call_and_return_conditional_losses, lstm_cell_1_layer_call_fn, lstm_cell_1_layer_call_and_return_conditional_losses while saving (showing 4 of 4). These functions will not be directly callable after loading.\n"
     ]
    },
    {
     "name": "stdout",
     "output_type": "stream",
     "text": [
      "INFO:tensorflow:Assets written to: /content/drive/MyDrive/rnn/machine_translation/Encoder_Decoder/model_checkpoints\\assets\n"
     ]
    },
    {
     "name": "stderr",
     "output_type": "stream",
     "text": [
      "INFO:tensorflow:Assets written to: /content/drive/MyDrive/rnn/machine_translation/Encoder_Decoder/model_checkpoints\\assets\n",
      "WARNING:absl:<keras.layers.recurrent.LSTMCell object at 0x0000026748B9DD00> has the same name 'LSTMCell' as a built-in Keras object. Consider renaming <class 'keras.layers.recurrent.LSTMCell'> to avoid naming conflicts when loading with `tf.keras.models.load_model`. If renaming is not possible, pass the object in the `custom_objects` parameter of the load function.\n",
      "WARNING:absl:<keras.layers.recurrent.LSTMCell object at 0x00000267490BB0A0> has the same name 'LSTMCell' as a built-in Keras object. Consider renaming <class 'keras.layers.recurrent.LSTMCell'> to avoid naming conflicts when loading with `tf.keras.models.load_model`. If renaming is not possible, pass the object in the `custom_objects` parameter of the load function.\n"
     ]
    },
    {
     "name": "stdout",
     "output_type": "stream",
     "text": [
      "704/704 [==============================] - 314s 446ms/step - loss: 0.7695 - accuracy: 0.5559 - val_loss: 0.9152 - val_accuracy: 0.5297\n",
      "Epoch 8/10\n",
      "704/704 [==============================] - ETA: 0s - loss: 0.7018 - accuracy: 0.5803"
     ]
    },
    {
     "name": "stderr",
     "output_type": "stream",
     "text": [
      "WARNING:absl:Found untraced functions such as lstm_cell_layer_call_fn, lstm_cell_layer_call_and_return_conditional_losses, lstm_cell_1_layer_call_fn, lstm_cell_1_layer_call_and_return_conditional_losses while saving (showing 4 of 4). These functions will not be directly callable after loading.\n"
     ]
    },
    {
     "name": "stdout",
     "output_type": "stream",
     "text": [
      "INFO:tensorflow:Assets written to: /content/drive/MyDrive/rnn/machine_translation/Encoder_Decoder/model_checkpoints\\assets\n"
     ]
    },
    {
     "name": "stderr",
     "output_type": "stream",
     "text": [
      "INFO:tensorflow:Assets written to: /content/drive/MyDrive/rnn/machine_translation/Encoder_Decoder/model_checkpoints\\assets\n",
      "WARNING:absl:<keras.layers.recurrent.LSTMCell object at 0x0000026748B9DD00> has the same name 'LSTMCell' as a built-in Keras object. Consider renaming <class 'keras.layers.recurrent.LSTMCell'> to avoid naming conflicts when loading with `tf.keras.models.load_model`. If renaming is not possible, pass the object in the `custom_objects` parameter of the load function.\n",
      "WARNING:absl:<keras.layers.recurrent.LSTMCell object at 0x00000267490BB0A0> has the same name 'LSTMCell' as a built-in Keras object. Consider renaming <class 'keras.layers.recurrent.LSTMCell'> to avoid naming conflicts when loading with `tf.keras.models.load_model`. If renaming is not possible, pass the object in the `custom_objects` parameter of the load function.\n"
     ]
    },
    {
     "name": "stdout",
     "output_type": "stream",
     "text": [
      "704/704 [==============================] - 306s 434ms/step - loss: 0.7018 - accuracy: 0.5803 - val_loss: 0.8849 - val_accuracy: 0.5417\n",
      "Epoch 9/10\n",
      "704/704 [==============================] - ETA: 0s - loss: 0.6414 - accuracy: 0.6039"
     ]
    },
    {
     "name": "stderr",
     "output_type": "stream",
     "text": [
      "WARNING:absl:Found untraced functions such as lstm_cell_layer_call_fn, lstm_cell_layer_call_and_return_conditional_losses, lstm_cell_1_layer_call_fn, lstm_cell_1_layer_call_and_return_conditional_losses while saving (showing 4 of 4). These functions will not be directly callable after loading.\n"
     ]
    },
    {
     "name": "stdout",
     "output_type": "stream",
     "text": [
      "INFO:tensorflow:Assets written to: /content/drive/MyDrive/rnn/machine_translation/Encoder_Decoder/model_checkpoints\\assets\n"
     ]
    },
    {
     "name": "stderr",
     "output_type": "stream",
     "text": [
      "INFO:tensorflow:Assets written to: /content/drive/MyDrive/rnn/machine_translation/Encoder_Decoder/model_checkpoints\\assets\n",
      "WARNING:absl:<keras.layers.recurrent.LSTMCell object at 0x0000026748B9DD00> has the same name 'LSTMCell' as a built-in Keras object. Consider renaming <class 'keras.layers.recurrent.LSTMCell'> to avoid naming conflicts when loading with `tf.keras.models.load_model`. If renaming is not possible, pass the object in the `custom_objects` parameter of the load function.\n",
      "WARNING:absl:<keras.layers.recurrent.LSTMCell object at 0x00000267490BB0A0> has the same name 'LSTMCell' as a built-in Keras object. Consider renaming <class 'keras.layers.recurrent.LSTMCell'> to avoid naming conflicts when loading with `tf.keras.models.load_model`. If renaming is not possible, pass the object in the `custom_objects` parameter of the load function.\n"
     ]
    },
    {
     "name": "stdout",
     "output_type": "stream",
     "text": [
      "704/704 [==============================] - 314s 446ms/step - loss: 0.6414 - accuracy: 0.6039 - val_loss: 0.8616 - val_accuracy: 0.5532\n",
      "Epoch 10/10\n",
      "704/704 [==============================] - ETA: 0s - loss: 0.5868 - accuracy: 0.6269"
     ]
    },
    {
     "name": "stderr",
     "output_type": "stream",
     "text": [
      "WARNING:absl:Found untraced functions such as lstm_cell_layer_call_fn, lstm_cell_layer_call_and_return_conditional_losses, lstm_cell_1_layer_call_fn, lstm_cell_1_layer_call_and_return_conditional_losses while saving (showing 4 of 4). These functions will not be directly callable after loading.\n"
     ]
    },
    {
     "name": "stdout",
     "output_type": "stream",
     "text": [
      "INFO:tensorflow:Assets written to: /content/drive/MyDrive/rnn/machine_translation/Encoder_Decoder/model_checkpoints\\assets\n"
     ]
    },
    {
     "name": "stderr",
     "output_type": "stream",
     "text": [
      "INFO:tensorflow:Assets written to: /content/drive/MyDrive/rnn/machine_translation/Encoder_Decoder/model_checkpoints\\assets\n",
      "WARNING:absl:<keras.layers.recurrent.LSTMCell object at 0x0000026748B9DD00> has the same name 'LSTMCell' as a built-in Keras object. Consider renaming <class 'keras.layers.recurrent.LSTMCell'> to avoid naming conflicts when loading with `tf.keras.models.load_model`. If renaming is not possible, pass the object in the `custom_objects` parameter of the load function.\n",
      "WARNING:absl:<keras.layers.recurrent.LSTMCell object at 0x00000267490BB0A0> has the same name 'LSTMCell' as a built-in Keras object. Consider renaming <class 'keras.layers.recurrent.LSTMCell'> to avoid naming conflicts when loading with `tf.keras.models.load_model`. If renaming is not possible, pass the object in the `custom_objects` parameter of the load function.\n"
     ]
    },
    {
     "name": "stdout",
     "output_type": "stream",
     "text": [
      "\b\b\b\b\b\b\b\b\b\b\b\b\b\b\b\b\b\b\b\b\b\b\b\b\b\b\b\b\b\b\b\b\b\b\b\b\b\b\b\b\b\b\b\b\b\b\b\b\b\b\b\b\b\b\b\b\b\b\b\b\b\b\b\b\b\b\b\b\b\b\b\b\b\b\b\b\b\b\b\b\b\b\b\b\r",
      "704/704 [==============================] - 323s 459ms/step - loss: 0.5868 - accuracy: 0.6269 - val_loss: 0.8415 - val_accuracy: 0.5631\n"
     ]
    }
   ],
   "source": [
    "history1= model1.fit(data_batch_generator(X_train,y_train), \n",
    "                       epochs=EPOCHS,\n",
    "                       steps_per_epoch= steps_per_epoch,\n",
    "                     validation_data=data_batch_generator(X_test, y_test, BATCH_SIZE),\n",
    "                       validation_steps=steps_per_epoch_val,\n",
    "                     callbacks=callbacks_list)"
   ]
  },
  {
   "cell_type": "code",
   "execution_count": 34,
   "metadata": {
    "id": "mjZXwzehx7d2"
   },
   "outputs": [],
   "source": [
    "model1.save_weights(r'G:\\My Drive\\Spring 2022\\ML\\German Translator\\saved_models/model1_weights.h5')"
   ]
  },
  {
   "cell_type": "code",
   "execution_count": 35,
   "metadata": {
    "id": "8qYpoNVAbuEf"
   },
   "outputs": [],
   "source": [
    "model1.load_weights(r'G:\\My Drive\\Spring 2022\\ML\\German Translator\\saved_models/model1_weights.h5')"
   ]
  },
  {
   "cell_type": "markdown",
   "metadata": {
    "id": "vBiNqCFhT1LJ"
   },
   "source": [
    "# Model2\n",
    "Now we will try to improve its accurcy with changing some units"
   ]
  },
  {
   "cell_type": "code",
   "execution_count": 36,
   "metadata": {
    "id": "X6mEo4AJT-AX"
   },
   "outputs": [],
   "source": [
    "encoder_input = Input(shape=(None, ))\n",
    "encoder_embd = Embedding(ENG_VOCAB_SIZE,1000, mask_zero=True)(encoder_input)\n",
    "encoder_lstm = LSTM(250, return_state=True)\n",
    "encoder_output,state_h, state_c = encoder_lstm(encoder_embd)\n",
    "encoder_states= [state_h, state_c]\n",
    "\n",
    "\n",
    "\n",
    "decoder_input = Input(shape=(None,))\n",
    "decoder_embd = Embedding(GER_VOCAB_SIZE, 1000, mask_zero=True)\n",
    "decoder_embedding= decoder_embd(decoder_input)\n",
    "decoder_lstm = LSTM(250, return_state=True,return_sequences=True )\n",
    "decoder_outputs, _, _= decoder_lstm(decoder_embedding, initial_state=encoder_states)\n",
    "decoder_dense= Dense(GER_VOCAB_SIZE, activation='softmax')\n",
    "decoder_outputs = decoder_dense(decoder_outputs)\n",
    "model2 = Model([encoder_input, decoder_input], decoder_outputs)"
   ]
  },
  {
   "cell_type": "code",
   "execution_count": 37,
   "metadata": {
    "colab": {
     "base_uri": "https://localhost:8080/",
     "height": 533
    },
    "id": "dnObzoz9T-AZ",
    "outputId": "b4adb6ef-11e7-408a-e374-5bd63bd630b1"
   },
   "outputs": [
    {
     "name": "stdout",
     "output_type": "stream",
     "text": [
      "You must install pydot (`pip install pydot`) and install graphviz (see instructions at https://graphviz.gitlab.io/download/) for plot_model/model_to_dot to work.\n"
     ]
    }
   ],
   "source": [
    "from tensorflow.keras.utils import  plot_model\n",
    "from tensorflow.keras.callbacks import ModelCheckpoint, EarlyStopping\n",
    "plot_model(model2,show_shapes=True)"
   ]
  },
  {
   "cell_type": "code",
   "execution_count": 38,
   "metadata": {
    "id": "PA_dopDpT-Ab"
   },
   "outputs": [],
   "source": [
    "model2.compile(optimizer='adam', loss='categorical_crossentropy', metrics='accuracy')"
   ]
  },
  {
   "cell_type": "code",
   "execution_count": 39,
   "metadata": {
    "id": "BKT-XO8yT-Ac"
   },
   "outputs": [],
   "source": [
    "checkpoint = ModelCheckpoint(\"/content/drive/MyDrive/rnn/machine_translation/Encoder_Decoder/model_checkpoints/model2/\", monitor='val_accuracy')\n",
    "\n",
    "early_stopping = EarlyStopping(monitor='val_accuracy', patience=5)\n",
    "\n",
    "callbacks_list = [checkpoint, early_stopping]"
   ]
  },
  {
   "cell_type": "code",
   "execution_count": 40,
   "metadata": {
    "id": "YNFCSoWiT-Ac"
   },
   "outputs": [],
   "source": [
    "steps_per_epoch= np.ceil(len(X_train)/BATCH_SIZE)\n",
    "steps_per_epoch_val = np.ceil(len(X_train)/BATCH_SIZE)"
   ]
  },
  {
   "cell_type": "code",
   "execution_count": 41,
   "metadata": {
    "colab": {
     "base_uri": "https://localhost:8080/"
    },
    "id": "Stxp05XFT-Ad",
    "outputId": "aab8319c-0f8c-4654-e7d8-e70476ced1f8"
   },
   "outputs": [
    {
     "data": {
      "text/plain": [
       "10"
      ]
     },
     "execution_count": 41,
     "metadata": {},
     "output_type": "execute_result"
    }
   ],
   "source": [
    "EPOCHS= 10 #@param {type:'slider',min:10,max:100, step:10 }\n",
    "EPOCHS"
   ]
  },
  {
   "cell_type": "code",
   "execution_count": 42,
   "metadata": {
    "colab": {
     "base_uri": "https://localhost:8080/"
    },
    "id": "k1WWj5LeT-Ae",
    "outputId": "c1f239f9-ebe2-4fca-9caf-ec53e0ec7a08"
   },
   "outputs": [
    {
     "name": "stdout",
     "output_type": "stream",
     "text": [
      "Epoch 1/10\n",
      "704/704 [==============================] - ETA: 0s - loss: 1.4488 - accuracy: 0.3489"
     ]
    },
    {
     "name": "stderr",
     "output_type": "stream",
     "text": [
      "WARNING:absl:Found untraced functions such as lstm_cell_2_layer_call_fn, lstm_cell_2_layer_call_and_return_conditional_losses, lstm_cell_3_layer_call_fn, lstm_cell_3_layer_call_and_return_conditional_losses while saving (showing 4 of 4). These functions will not be directly callable after loading.\n"
     ]
    },
    {
     "name": "stdout",
     "output_type": "stream",
     "text": [
      "INFO:tensorflow:Assets written to: /content/drive/MyDrive/rnn/machine_translation/Encoder_Decoder/model_checkpoints/model2\\assets\n"
     ]
    },
    {
     "name": "stderr",
     "output_type": "stream",
     "text": [
      "INFO:tensorflow:Assets written to: /content/drive/MyDrive/rnn/machine_translation/Encoder_Decoder/model_checkpoints/model2\\assets\n",
      "WARNING:absl:<keras.layers.recurrent.LSTMCell object at 0x000002670606D1C0> has the same name 'LSTMCell' as a built-in Keras object. Consider renaming <class 'keras.layers.recurrent.LSTMCell'> to avoid naming conflicts when loading with `tf.keras.models.load_model`. If renaming is not possible, pass the object in the `custom_objects` parameter of the load function.\n",
      "WARNING:absl:<keras.layers.recurrent.LSTMCell object at 0x000002670011DBE0> has the same name 'LSTMCell' as a built-in Keras object. Consider renaming <class 'keras.layers.recurrent.LSTMCell'> to avoid naming conflicts when loading with `tf.keras.models.load_model`. If renaming is not possible, pass the object in the `custom_objects` parameter of the load function.\n"
     ]
    },
    {
     "name": "stdout",
     "output_type": "stream",
     "text": [
      "704/704 [==============================] - 630s 887ms/step - loss: 1.4488 - accuracy: 0.3489 - val_loss: 1.1541 - val_accuracy: 0.4426\n",
      "Epoch 2/10\n",
      "704/704 [==============================] - ETA: 0s - loss: 0.9759 - accuracy: 0.5008"
     ]
    },
    {
     "name": "stderr",
     "output_type": "stream",
     "text": [
      "WARNING:absl:Found untraced functions such as lstm_cell_2_layer_call_fn, lstm_cell_2_layer_call_and_return_conditional_losses, lstm_cell_3_layer_call_fn, lstm_cell_3_layer_call_and_return_conditional_losses while saving (showing 4 of 4). These functions will not be directly callable after loading.\n"
     ]
    },
    {
     "name": "stdout",
     "output_type": "stream",
     "text": [
      "INFO:tensorflow:Assets written to: /content/drive/MyDrive/rnn/machine_translation/Encoder_Decoder/model_checkpoints/model2\\assets\n"
     ]
    },
    {
     "name": "stderr",
     "output_type": "stream",
     "text": [
      "INFO:tensorflow:Assets written to: /content/drive/MyDrive/rnn/machine_translation/Encoder_Decoder/model_checkpoints/model2\\assets\n",
      "WARNING:absl:<keras.layers.recurrent.LSTMCell object at 0x000002670606D1C0> has the same name 'LSTMCell' as a built-in Keras object. Consider renaming <class 'keras.layers.recurrent.LSTMCell'> to avoid naming conflicts when loading with `tf.keras.models.load_model`. If renaming is not possible, pass the object in the `custom_objects` parameter of the load function.\n",
      "WARNING:absl:<keras.layers.recurrent.LSTMCell object at 0x000002670011DBE0> has the same name 'LSTMCell' as a built-in Keras object. Consider renaming <class 'keras.layers.recurrent.LSTMCell'> to avoid naming conflicts when loading with `tf.keras.models.load_model`. If renaming is not possible, pass the object in the `custom_objects` parameter of the load function.\n"
     ]
    },
    {
     "name": "stdout",
     "output_type": "stream",
     "text": [
      "704/704 [==============================] - 715s 1s/step - loss: 0.9759 - accuracy: 0.5008 - val_loss: 0.9042 - val_accuracy: 0.5422\n",
      "Epoch 3/10\n",
      "704/704 [==============================] - ETA: 0s - loss: 0.7248 - accuracy: 0.5879"
     ]
    },
    {
     "name": "stderr",
     "output_type": "stream",
     "text": [
      "WARNING:absl:Found untraced functions such as lstm_cell_2_layer_call_fn, lstm_cell_2_layer_call_and_return_conditional_losses, lstm_cell_3_layer_call_fn, lstm_cell_3_layer_call_and_return_conditional_losses while saving (showing 4 of 4). These functions will not be directly callable after loading.\n"
     ]
    },
    {
     "name": "stdout",
     "output_type": "stream",
     "text": [
      "INFO:tensorflow:Assets written to: /content/drive/MyDrive/rnn/machine_translation/Encoder_Decoder/model_checkpoints/model2\\assets\n"
     ]
    },
    {
     "name": "stderr",
     "output_type": "stream",
     "text": [
      "INFO:tensorflow:Assets written to: /content/drive/MyDrive/rnn/machine_translation/Encoder_Decoder/model_checkpoints/model2\\assets\n",
      "WARNING:absl:<keras.layers.recurrent.LSTMCell object at 0x000002670606D1C0> has the same name 'LSTMCell' as a built-in Keras object. Consider renaming <class 'keras.layers.recurrent.LSTMCell'> to avoid naming conflicts when loading with `tf.keras.models.load_model`. If renaming is not possible, pass the object in the `custom_objects` parameter of the load function.\n",
      "WARNING:absl:<keras.layers.recurrent.LSTMCell object at 0x000002670011DBE0> has the same name 'LSTMCell' as a built-in Keras object. Consider renaming <class 'keras.layers.recurrent.LSTMCell'> to avoid naming conflicts when loading with `tf.keras.models.load_model`. If renaming is not possible, pass the object in the `custom_objects` parameter of the load function.\n"
     ]
    },
    {
     "name": "stdout",
     "output_type": "stream",
     "text": [
      "704/704 [==============================] - 704s 1s/step - loss: 0.7248 - accuracy: 0.5879 - val_loss: 0.7774 - val_accuracy: 0.5932\n",
      "Epoch 4/10\n",
      "704/704 [==============================] - ETA: 0s - loss: 0.5457 - accuracy: 0.6607"
     ]
    },
    {
     "name": "stderr",
     "output_type": "stream",
     "text": [
      "WARNING:absl:Found untraced functions such as lstm_cell_2_layer_call_fn, lstm_cell_2_layer_call_and_return_conditional_losses, lstm_cell_3_layer_call_fn, lstm_cell_3_layer_call_and_return_conditional_losses while saving (showing 4 of 4). These functions will not be directly callable after loading.\n"
     ]
    },
    {
     "name": "stdout",
     "output_type": "stream",
     "text": [
      "INFO:tensorflow:Assets written to: /content/drive/MyDrive/rnn/machine_translation/Encoder_Decoder/model_checkpoints/model2\\assets\n"
     ]
    },
    {
     "name": "stderr",
     "output_type": "stream",
     "text": [
      "INFO:tensorflow:Assets written to: /content/drive/MyDrive/rnn/machine_translation/Encoder_Decoder/model_checkpoints/model2\\assets\n",
      "WARNING:absl:<keras.layers.recurrent.LSTMCell object at 0x000002670606D1C0> has the same name 'LSTMCell' as a built-in Keras object. Consider renaming <class 'keras.layers.recurrent.LSTMCell'> to avoid naming conflicts when loading with `tf.keras.models.load_model`. If renaming is not possible, pass the object in the `custom_objects` parameter of the load function.\n",
      "WARNING:absl:<keras.layers.recurrent.LSTMCell object at 0x000002670011DBE0> has the same name 'LSTMCell' as a built-in Keras object. Consider renaming <class 'keras.layers.recurrent.LSTMCell'> to avoid naming conflicts when loading with `tf.keras.models.load_model`. If renaming is not possible, pass the object in the `custom_objects` parameter of the load function.\n"
     ]
    },
    {
     "name": "stdout",
     "output_type": "stream",
     "text": [
      "704/704 [==============================] - 718s 1s/step - loss: 0.5457 - accuracy: 0.6607 - val_loss: 0.7012 - val_accuracy: 0.6327\n",
      "Epoch 5/10\n",
      "704/704 [==============================] - ETA: 0s - loss: 0.4099 - accuracy: 0.7264"
     ]
    },
    {
     "name": "stderr",
     "output_type": "stream",
     "text": [
      "WARNING:absl:Found untraced functions such as lstm_cell_2_layer_call_fn, lstm_cell_2_layer_call_and_return_conditional_losses, lstm_cell_3_layer_call_fn, lstm_cell_3_layer_call_and_return_conditional_losses while saving (showing 4 of 4). These functions will not be directly callable after loading.\n"
     ]
    },
    {
     "name": "stdout",
     "output_type": "stream",
     "text": [
      "INFO:tensorflow:Assets written to: /content/drive/MyDrive/rnn/machine_translation/Encoder_Decoder/model_checkpoints/model2\\assets\n"
     ]
    },
    {
     "name": "stderr",
     "output_type": "stream",
     "text": [
      "INFO:tensorflow:Assets written to: /content/drive/MyDrive/rnn/machine_translation/Encoder_Decoder/model_checkpoints/model2\\assets\n",
      "WARNING:absl:<keras.layers.recurrent.LSTMCell object at 0x000002670606D1C0> has the same name 'LSTMCell' as a built-in Keras object. Consider renaming <class 'keras.layers.recurrent.LSTMCell'> to avoid naming conflicts when loading with `tf.keras.models.load_model`. If renaming is not possible, pass the object in the `custom_objects` parameter of the load function.\n",
      "WARNING:absl:<keras.layers.recurrent.LSTMCell object at 0x000002670011DBE0> has the same name 'LSTMCell' as a built-in Keras object. Consider renaming <class 'keras.layers.recurrent.LSTMCell'> to avoid naming conflicts when loading with `tf.keras.models.load_model`. If renaming is not possible, pass the object in the `custom_objects` parameter of the load function.\n"
     ]
    },
    {
     "name": "stdout",
     "output_type": "stream",
     "text": [
      "704/704 [==============================] - 672s 955ms/step - loss: 0.4099 - accuracy: 0.7264 - val_loss: 0.6558 - val_accuracy: 0.6556\n",
      "Epoch 6/10\n",
      "704/704 [==============================] - ETA: 0s - loss: 0.3068 - accuracy: 0.7812"
     ]
    },
    {
     "name": "stderr",
     "output_type": "stream",
     "text": [
      "WARNING:absl:Found untraced functions such as lstm_cell_2_layer_call_fn, lstm_cell_2_layer_call_and_return_conditional_losses, lstm_cell_3_layer_call_fn, lstm_cell_3_layer_call_and_return_conditional_losses while saving (showing 4 of 4). These functions will not be directly callable after loading.\n"
     ]
    },
    {
     "name": "stdout",
     "output_type": "stream",
     "text": [
      "INFO:tensorflow:Assets written to: /content/drive/MyDrive/rnn/machine_translation/Encoder_Decoder/model_checkpoints/model2\\assets\n"
     ]
    },
    {
     "name": "stderr",
     "output_type": "stream",
     "text": [
      "INFO:tensorflow:Assets written to: /content/drive/MyDrive/rnn/machine_translation/Encoder_Decoder/model_checkpoints/model2\\assets\n",
      "WARNING:absl:<keras.layers.recurrent.LSTMCell object at 0x000002670606D1C0> has the same name 'LSTMCell' as a built-in Keras object. Consider renaming <class 'keras.layers.recurrent.LSTMCell'> to avoid naming conflicts when loading with `tf.keras.models.load_model`. If renaming is not possible, pass the object in the `custom_objects` parameter of the load function.\n",
      "WARNING:absl:<keras.layers.recurrent.LSTMCell object at 0x000002670011DBE0> has the same name 'LSTMCell' as a built-in Keras object. Consider renaming <class 'keras.layers.recurrent.LSTMCell'> to avoid naming conflicts when loading with `tf.keras.models.load_model`. If renaming is not possible, pass the object in the `custom_objects` parameter of the load function.\n"
     ]
    },
    {
     "name": "stdout",
     "output_type": "stream",
     "text": [
      "704/704 [==============================] - 687s 976ms/step - loss: 0.3068 - accuracy: 0.7812 - val_loss: 0.6293 - val_accuracy: 0.6712\n",
      "Epoch 7/10\n",
      "704/704 [==============================] - ETA: 0s - loss: 0.2301 - accuracy: 0.8291"
     ]
    },
    {
     "name": "stderr",
     "output_type": "stream",
     "text": [
      "WARNING:absl:Found untraced functions such as lstm_cell_2_layer_call_fn, lstm_cell_2_layer_call_and_return_conditional_losses, lstm_cell_3_layer_call_fn, lstm_cell_3_layer_call_and_return_conditional_losses while saving (showing 4 of 4). These functions will not be directly callable after loading.\n"
     ]
    },
    {
     "name": "stdout",
     "output_type": "stream",
     "text": [
      "INFO:tensorflow:Assets written to: /content/drive/MyDrive/rnn/machine_translation/Encoder_Decoder/model_checkpoints/model2\\assets\n"
     ]
    },
    {
     "name": "stderr",
     "output_type": "stream",
     "text": [
      "INFO:tensorflow:Assets written to: /content/drive/MyDrive/rnn/machine_translation/Encoder_Decoder/model_checkpoints/model2\\assets\n",
      "WARNING:absl:<keras.layers.recurrent.LSTMCell object at 0x000002670606D1C0> has the same name 'LSTMCell' as a built-in Keras object. Consider renaming <class 'keras.layers.recurrent.LSTMCell'> to avoid naming conflicts when loading with `tf.keras.models.load_model`. If renaming is not possible, pass the object in the `custom_objects` parameter of the load function.\n",
      "WARNING:absl:<keras.layers.recurrent.LSTMCell object at 0x000002670011DBE0> has the same name 'LSTMCell' as a built-in Keras object. Consider renaming <class 'keras.layers.recurrent.LSTMCell'> to avoid naming conflicts when loading with `tf.keras.models.load_model`. If renaming is not possible, pass the object in the `custom_objects` parameter of the load function.\n"
     ]
    },
    {
     "name": "stdout",
     "output_type": "stream",
     "text": [
      "704/704 [==============================] - 696s 989ms/step - loss: 0.2301 - accuracy: 0.8291 - val_loss: 0.6188 - val_accuracy: 0.6806\n",
      "Epoch 8/10\n",
      "704/704 [==============================] - ETA: 0s - loss: 0.1746 - accuracy: 0.8654"
     ]
    },
    {
     "name": "stderr",
     "output_type": "stream",
     "text": [
      "WARNING:absl:Found untraced functions such as lstm_cell_2_layer_call_fn, lstm_cell_2_layer_call_and_return_conditional_losses, lstm_cell_3_layer_call_fn, lstm_cell_3_layer_call_and_return_conditional_losses while saving (showing 4 of 4). These functions will not be directly callable after loading.\n"
     ]
    },
    {
     "name": "stdout",
     "output_type": "stream",
     "text": [
      "INFO:tensorflow:Assets written to: /content/drive/MyDrive/rnn/machine_translation/Encoder_Decoder/model_checkpoints/model2\\assets\n"
     ]
    },
    {
     "name": "stderr",
     "output_type": "stream",
     "text": [
      "INFO:tensorflow:Assets written to: /content/drive/MyDrive/rnn/machine_translation/Encoder_Decoder/model_checkpoints/model2\\assets\n",
      "WARNING:absl:<keras.layers.recurrent.LSTMCell object at 0x000002670606D1C0> has the same name 'LSTMCell' as a built-in Keras object. Consider renaming <class 'keras.layers.recurrent.LSTMCell'> to avoid naming conflicts when loading with `tf.keras.models.load_model`. If renaming is not possible, pass the object in the `custom_objects` parameter of the load function.\n",
      "WARNING:absl:<keras.layers.recurrent.LSTMCell object at 0x000002670011DBE0> has the same name 'LSTMCell' as a built-in Keras object. Consider renaming <class 'keras.layers.recurrent.LSTMCell'> to avoid naming conflicts when loading with `tf.keras.models.load_model`. If renaming is not possible, pass the object in the `custom_objects` parameter of the load function.\n"
     ]
    },
    {
     "name": "stdout",
     "output_type": "stream",
     "text": [
      "704/704 [==============================] - 668s 950ms/step - loss: 0.1746 - accuracy: 0.8654 - val_loss: 0.6134 - val_accuracy: 0.6862\n",
      "Epoch 9/10\n",
      "704/704 [==============================] - ETA: 0s - loss: 0.1361 - accuracy: 0.8901"
     ]
    },
    {
     "name": "stderr",
     "output_type": "stream",
     "text": [
      "WARNING:absl:Found untraced functions such as lstm_cell_2_layer_call_fn, lstm_cell_2_layer_call_and_return_conditional_losses, lstm_cell_3_layer_call_fn, lstm_cell_3_layer_call_and_return_conditional_losses while saving (showing 4 of 4). These functions will not be directly callable after loading.\n"
     ]
    },
    {
     "name": "stdout",
     "output_type": "stream",
     "text": [
      "INFO:tensorflow:Assets written to: /content/drive/MyDrive/rnn/machine_translation/Encoder_Decoder/model_checkpoints/model2\\assets\n"
     ]
    },
    {
     "name": "stderr",
     "output_type": "stream",
     "text": [
      "INFO:tensorflow:Assets written to: /content/drive/MyDrive/rnn/machine_translation/Encoder_Decoder/model_checkpoints/model2\\assets\n",
      "WARNING:absl:<keras.layers.recurrent.LSTMCell object at 0x000002670606D1C0> has the same name 'LSTMCell' as a built-in Keras object. Consider renaming <class 'keras.layers.recurrent.LSTMCell'> to avoid naming conflicts when loading with `tf.keras.models.load_model`. If renaming is not possible, pass the object in the `custom_objects` parameter of the load function.\n",
      "WARNING:absl:<keras.layers.recurrent.LSTMCell object at 0x000002670011DBE0> has the same name 'LSTMCell' as a built-in Keras object. Consider renaming <class 'keras.layers.recurrent.LSTMCell'> to avoid naming conflicts when loading with `tf.keras.models.load_model`. If renaming is not possible, pass the object in the `custom_objects` parameter of the load function.\n"
     ]
    },
    {
     "name": "stdout",
     "output_type": "stream",
     "text": [
      "704/704 [==============================] - 694s 986ms/step - loss: 0.1361 - accuracy: 0.8901 - val_loss: 0.6132 - val_accuracy: 0.6902\n",
      "Epoch 10/10\n",
      "704/704 [==============================] - ETA: 0s - loss: 0.1092 - accuracy: 0.9065"
     ]
    },
    {
     "name": "stderr",
     "output_type": "stream",
     "text": [
      "WARNING:absl:Found untraced functions such as lstm_cell_2_layer_call_fn, lstm_cell_2_layer_call_and_return_conditional_losses, lstm_cell_3_layer_call_fn, lstm_cell_3_layer_call_and_return_conditional_losses while saving (showing 4 of 4). These functions will not be directly callable after loading.\n"
     ]
    },
    {
     "name": "stdout",
     "output_type": "stream",
     "text": [
      "INFO:tensorflow:Assets written to: /content/drive/MyDrive/rnn/machine_translation/Encoder_Decoder/model_checkpoints/model2\\assets\n"
     ]
    },
    {
     "name": "stderr",
     "output_type": "stream",
     "text": [
      "INFO:tensorflow:Assets written to: /content/drive/MyDrive/rnn/machine_translation/Encoder_Decoder/model_checkpoints/model2\\assets\n",
      "WARNING:absl:<keras.layers.recurrent.LSTMCell object at 0x000002670606D1C0> has the same name 'LSTMCell' as a built-in Keras object. Consider renaming <class 'keras.layers.recurrent.LSTMCell'> to avoid naming conflicts when loading with `tf.keras.models.load_model`. If renaming is not possible, pass the object in the `custom_objects` parameter of the load function.\n",
      "WARNING:absl:<keras.layers.recurrent.LSTMCell object at 0x000002670011DBE0> has the same name 'LSTMCell' as a built-in Keras object. Consider renaming <class 'keras.layers.recurrent.LSTMCell'> to avoid naming conflicts when loading with `tf.keras.models.load_model`. If renaming is not possible, pass the object in the `custom_objects` parameter of the load function.\n"
     ]
    },
    {
     "name": "stdout",
     "output_type": "stream",
     "text": [
      "\b\b\b\b\b\b\b\b\b\b\b\b\b\b\b\b\b\b\b\b\b\b\b\b\b\b\b\b\b\b\b\b\b\b\b\b\b\b\b\b\b\b\b\b\b\b\b\b\b\b\b\b\b\b\b\b\b\b\b\b\b\b\b\b\b\b\b\b\b\b\b\b\b\b\b\b\b\b\b\b\b\b\b\b\r",
      "704/704 [==============================] - 677s 962ms/step - loss: 0.1092 - accuracy: 0.9065 - val_loss: 0.6197 - val_accuracy: 0.6914\n"
     ]
    }
   ],
   "source": [
    "history2= model2.fit(data_batch_generator(X_train,y_train), \n",
    "                       epochs=EPOCHS,\n",
    "                       steps_per_epoch= steps_per_epoch,\n",
    "                     validation_data=data_batch_generator(X_test, y_test, BATCH_SIZE),\n",
    "                       validation_steps=steps_per_epoch_val,\n",
    "                     callbacks=callbacks_list)"
   ]
  },
  {
   "cell_type": "code",
   "execution_count": 43,
   "metadata": {
    "id": "q46qGS07T31R"
   },
   "outputs": [],
   "source": [
    "model2.save_weights(r'G:\\My Drive\\Spring 2022\\ML\\German Translator\\saved_models/2_model_weights.h5')"
   ]
  },
  {
   "cell_type": "code",
   "execution_count": 44,
   "metadata": {
    "id": "Ird9oNUzT3y1"
   },
   "outputs": [],
   "source": [
    "model2.load_weights(r'G:\\My Drive\\Spring 2022\\ML\\German Translator\\saved_models/2_model_weights.h5')"
   ]
  },
  {
   "cell_type": "code",
   "execution_count": 45,
   "metadata": {
    "id": "a06gEHmPanYD"
   },
   "outputs": [],
   "source": [
    "encoder_model = Model(encoder_input, encoder_states)"
   ]
  },
  {
   "cell_type": "code",
   "execution_count": 46,
   "metadata": {
    "id": "L7uAfAnoa4KS"
   },
   "outputs": [],
   "source": [
    "decoder_state_input_h = Input(shape=(250,))\n",
    "decoder_state_input_c= Input(shape=(250,))\n",
    "decoder_states_input= [decoder_state_input_h, decoder_state_input_c]\n",
    "dec_embd2 = decoder_embd(decoder_input)\n",
    "\n"
   ]
  },
  {
   "cell_type": "code",
   "execution_count": null,
   "metadata": {},
   "outputs": [],
   "source": [
    "decoder_output2,state_h2, state_c2 = decoder_lstm(dec_embd2, initial_state=decoder_states_input)\n",
    "deccoder_states2= [state_h2, state_c2]\n",
    "decoder_output2 = decoder_dense(decoder_output2)\n",
    "decoder_model = Model(\n",
    "                      [decoder_input]+decoder_states_input,\n",
    "                      [decoder_output2]+ deccoder_states2)"
   ]
  },
  {
   "cell_type": "code",
   "execution_count": 47,
   "metadata": {
    "id": "aq7hdBLWcQY8"
   },
   "outputs": [],
   "source": [
    "def get_predicted_sentence(input_seq):\n",
    "    states_value = encoder_model.predict(input_seq)\n",
    "    target_seq = np.zeros((1,1))\n",
    "    target_seq[0, 0] = ger_word_index['sos']\n",
    "    stop_condition = False\n",
    "    decoded_sentence = ''\n",
    "    \n",
    "    while not stop_condition:\n",
    "        output_tokens, h, c = decoder_model.predict([target_seq] + states_value)\n",
    "        sampled_token_index = np.argmax(output_tokens[0, -1, :])\n",
    "        sampled_char = ger_index_word[sampled_token_index]\n",
    "        decoded_sentence += ' '+sampled_char\n",
    "        if (sampled_char == 'eos' or len(decoded_sentence) > 50):\n",
    "            stop_condition = True\n",
    "        target_seq = np.zeros((1,1))\n",
    "        target_seq[0, 0] = sampled_token_index\n",
    "        states_value = [h, c]   \n",
    "    return decoded_sentence"
   ]
  },
  {
   "cell_type": "code",
   "execution_count": 48,
   "metadata": {
    "id": "xnZyZa33eLOH"
   },
   "outputs": [],
   "source": [
    "test_gen= data_batch_generator(X_test,y_test,batch_size=1)"
   ]
  },
  {
   "cell_type": "code",
   "execution_count": 49,
   "metadata": {
    "id": "a4hQIREkIQnF"
   },
   "outputs": [],
   "source": [
    "Actual_test_sent = X_test.to_list()\n",
    "Actual_test_trans= y_test.to_list()"
   ]
  },
  {
   "cell_type": "code",
   "execution_count": 50,
   "metadata": {
    "id": "D6zpJJe9BbkE"
   },
   "outputs": [],
   "source": [
    "test_inputs=[]\n",
    "test_outputs=[]"
   ]
  },
  {
   "cell_type": "code",
   "execution_count": 51,
   "metadata": {},
   "outputs": [
    {
     "name": "stderr",
     "output_type": "stream",
     "text": [
      "45382666it [1:41:01, 7487.10it/s]\n"
     ]
    },
    {
     "ename": "KeyboardInterrupt",
     "evalue": "",
     "output_type": "error",
     "traceback": [
      "\u001b[1;31m---------------------------------------------------------------------------\u001b[0m",
      "\u001b[1;31mKeyboardInterrupt\u001b[0m                         Traceback (most recent call last)",
      "\u001b[1;32m<ipython-input-51-d6c08eb56658>\u001b[0m in \u001b[0;36m<module>\u001b[1;34m\u001b[0m\n\u001b[0;32m      1\u001b[0m \u001b[1;32mfrom\u001b[0m \u001b[0mtqdm\u001b[0m \u001b[1;32mimport\u001b[0m \u001b[0mtqdm\u001b[0m\u001b[1;33m\u001b[0m\u001b[1;33m\u001b[0m\u001b[0m\n\u001b[1;32m----> 2\u001b[1;33m \u001b[1;32mfor\u001b[0m \u001b[1;33m(\u001b[0m\u001b[0minput\u001b[0m\u001b[1;33m,\u001b[0m \u001b[0moutput\u001b[0m\u001b[1;33m)\u001b[0m\u001b[1;33m,\u001b[0m\u001b[0m_\u001b[0m \u001b[1;32min\u001b[0m \u001b[0mtqdm\u001b[0m\u001b[1;33m(\u001b[0m\u001b[0miter\u001b[0m\u001b[1;33m(\u001b[0m\u001b[0mtest_gen\u001b[0m\u001b[1;33m)\u001b[0m\u001b[1;33m)\u001b[0m\u001b[1;33m:\u001b[0m\u001b[1;33m\u001b[0m\u001b[1;33m\u001b[0m\u001b[0m\n\u001b[0m\u001b[0;32m      3\u001b[0m     \u001b[0mtest_inputs\u001b[0m\u001b[1;33m.\u001b[0m\u001b[0mappend\u001b[0m\u001b[1;33m(\u001b[0m\u001b[0minput\u001b[0m\u001b[1;33m)\u001b[0m\u001b[1;33m\u001b[0m\u001b[1;33m\u001b[0m\u001b[0m\n\u001b[0;32m      4\u001b[0m     \u001b[0mtest_outputs\u001b[0m\u001b[1;33m.\u001b[0m\u001b[0mappend\u001b[0m\u001b[1;33m(\u001b[0m\u001b[0moutput\u001b[0m\u001b[1;33m)\u001b[0m\u001b[1;33m\u001b[0m\u001b[1;33m\u001b[0m\u001b[0m\n",
      "\u001b[1;32mC:\\ProgramData\\Anaconda3\\lib\\site-packages\\tqdm\\std.py\u001b[0m in \u001b[0;36m__iter__\u001b[1;34m(self)\u001b[0m\n\u001b[0;32m   1163\u001b[0m \u001b[1;33m\u001b[0m\u001b[0m\n\u001b[0;32m   1164\u001b[0m         \u001b[1;32mtry\u001b[0m\u001b[1;33m:\u001b[0m\u001b[1;33m\u001b[0m\u001b[1;33m\u001b[0m\u001b[0m\n\u001b[1;32m-> 1165\u001b[1;33m             \u001b[1;32mfor\u001b[0m \u001b[0mobj\u001b[0m \u001b[1;32min\u001b[0m \u001b[0miterable\u001b[0m\u001b[1;33m:\u001b[0m\u001b[1;33m\u001b[0m\u001b[1;33m\u001b[0m\u001b[0m\n\u001b[0m\u001b[0;32m   1166\u001b[0m                 \u001b[1;32myield\u001b[0m \u001b[0mobj\u001b[0m\u001b[1;33m\u001b[0m\u001b[1;33m\u001b[0m\u001b[0m\n\u001b[0;32m   1167\u001b[0m                 \u001b[1;31m# Update and possibly print the progressbar.\u001b[0m\u001b[1;33m\u001b[0m\u001b[1;33m\u001b[0m\u001b[1;33m\u001b[0m\u001b[0m\n",
      "\u001b[1;32m<ipython-input-23-da21257ce52a>\u001b[0m in \u001b[0;36mdata_batch_generator\u001b[1;34m(x, y, batch_size)\u001b[0m\n\u001b[0;32m      5\u001b[0m             \u001b[0mdecoder_input_data\u001b[0m \u001b[1;33m=\u001b[0m \u001b[0mnp\u001b[0m\u001b[1;33m.\u001b[0m\u001b[0mzeros\u001b[0m\u001b[1;33m(\u001b[0m\u001b[1;33m(\u001b[0m\u001b[0mbatch_size\u001b[0m\u001b[1;33m,\u001b[0m \u001b[0mmax_ger_len\u001b[0m\u001b[1;33m)\u001b[0m\u001b[1;33m,\u001b[0m \u001b[0mdtype\u001b[0m\u001b[1;33m=\u001b[0m\u001b[1;34m'float32'\u001b[0m\u001b[1;33m)\u001b[0m\u001b[1;33m\u001b[0m\u001b[1;33m\u001b[0m\u001b[0m\n\u001b[0;32m      6\u001b[0m             \u001b[1;31m# one hot encoded target data beause dense layer with softmax will give only one output at a time\u001b[0m\u001b[1;33m\u001b[0m\u001b[1;33m\u001b[0m\u001b[1;33m\u001b[0m\u001b[0m\n\u001b[1;32m----> 7\u001b[1;33m             \u001b[0mdecoder_target_data\u001b[0m \u001b[1;33m=\u001b[0m \u001b[0mnp\u001b[0m\u001b[1;33m.\u001b[0m\u001b[0mzeros\u001b[0m\u001b[1;33m(\u001b[0m\u001b[1;33m(\u001b[0m\u001b[0mbatch_size\u001b[0m\u001b[1;33m,\u001b[0m \u001b[0mmax_ger_len\u001b[0m\u001b[1;33m,\u001b[0m \u001b[0mGER_VOCAB_SIZE\u001b[0m\u001b[1;33m)\u001b[0m\u001b[1;33m,\u001b[0m \u001b[0mdtype\u001b[0m\u001b[1;33m=\u001b[0m\u001b[1;34m'float32'\u001b[0m \u001b[1;33m)\u001b[0m\u001b[1;33m\u001b[0m\u001b[1;33m\u001b[0m\u001b[0m\n\u001b[0m\u001b[0;32m      8\u001b[0m             \u001b[1;32mfor\u001b[0m \u001b[0mj\u001b[0m\u001b[1;33m,\u001b[0m \u001b[1;33m(\u001b[0m\u001b[0meng_text\u001b[0m\u001b[1;33m,\u001b[0m \u001b[0mger_text\u001b[0m\u001b[1;33m)\u001b[0m \u001b[1;32min\u001b[0m \u001b[0menumerate\u001b[0m\u001b[1;33m(\u001b[0m\u001b[0mzip\u001b[0m\u001b[1;33m(\u001b[0m\u001b[0mx\u001b[0m\u001b[1;33m[\u001b[0m\u001b[0mi\u001b[0m\u001b[1;33m:\u001b[0m\u001b[0mi\u001b[0m\u001b[1;33m+\u001b[0m\u001b[0mbatch_size\u001b[0m\u001b[1;33m]\u001b[0m\u001b[1;33m,\u001b[0m \u001b[0my\u001b[0m\u001b[1;33m[\u001b[0m\u001b[0mi\u001b[0m\u001b[1;33m:\u001b[0m\u001b[0mi\u001b[0m\u001b[1;33m+\u001b[0m\u001b[0mbatch_size\u001b[0m\u001b[1;33m]\u001b[0m\u001b[1;33m)\u001b[0m\u001b[1;33m)\u001b[0m\u001b[1;33m:\u001b[0m\u001b[1;33m\u001b[0m\u001b[1;33m\u001b[0m\u001b[0m\n\u001b[0;32m      9\u001b[0m                 \u001b[1;32mfor\u001b[0m \u001b[0mt\u001b[0m \u001b[1;33m,\u001b[0m \u001b[0mword\u001b[0m \u001b[1;32min\u001b[0m \u001b[0menumerate\u001b[0m\u001b[1;33m(\u001b[0m\u001b[0meng_text\u001b[0m\u001b[1;33m.\u001b[0m\u001b[0msplit\u001b[0m\u001b[1;33m(\u001b[0m\u001b[1;33m)\u001b[0m\u001b[1;33m)\u001b[0m\u001b[1;33m:\u001b[0m\u001b[1;33m\u001b[0m\u001b[1;33m\u001b[0m\u001b[0m\n",
      "\u001b[1;31mKeyboardInterrupt\u001b[0m: "
     ]
    }
   ],
   "source": [
    "from tqdm import tqdm\n",
    "for (input, output),_ in tqdm(iter(test_gen)):\n",
    "    test_inputs.append(input)\n",
    "    test_outputs.append(output)"
   ]
  },
  {
   "cell_type": "code",
   "execution_count": 52,
   "metadata": {
    "colab": {
     "base_uri": "https://localhost:8080/"
    },
    "id": "m_SysZ0-DnXD",
    "outputId": "e5dab510-7bf7-4c19-946c-3f50a8ba809e"
   },
   "outputs": [
    {
     "data": {
      "text/plain": [
       "array([[ 580., 7349., 9053., 2108.,    0.,    0.,    0.]], dtype=float32)"
      ]
     },
     "execution_count": 52,
     "metadata": {},
     "output_type": "execute_result"
    }
   ],
   "source": [
    "test_inputs[0]"
   ]
  },
  {
   "cell_type": "code",
   "execution_count": null,
   "metadata": {},
   "outputs": [],
   "source": [
    "#translation 1"
   ]
  },
  {
   "cell_type": "code",
   "execution_count": 82,
   "metadata": {},
   "outputs": [
    {
     "data": {
      "text/plain": [
       "'Tom should be angry.'"
      ]
     },
     "execution_count": 82,
     "metadata": {},
     "output_type": "execute_result"
    }
   ],
   "source": [
    "Actual_test_sent[786]"
   ]
  },
  {
   "cell_type": "code",
   "execution_count": 83,
   "metadata": {},
   "outputs": [
    {
     "data": {
      "text/plain": [
       "'Tom müsste böse sein.'"
      ]
     },
     "execution_count": 83,
     "metadata": {},
     "output_type": "execute_result"
    }
   ],
   "source": [
    "Actual_test_trans[786] [4:-4]"
   ]
  },
  {
   "cell_type": "code",
   "execution_count": 84,
   "metadata": {},
   "outputs": [
    {
     "data": {
      "text/plain": [
       "' Tom sollte sich unsicher.'"
      ]
     },
     "execution_count": 84,
     "metadata": {},
     "output_type": "execute_result"
    }
   ],
   "source": [
    "get_predicted_sentence(test_inputs[786])[:-4]"
   ]
  },
  {
   "cell_type": "code",
   "execution_count": null,
   "metadata": {},
   "outputs": [],
   "source": [
    "#translation 2"
   ]
  },
  {
   "cell_type": "code",
   "execution_count": 85,
   "metadata": {},
   "outputs": [
    {
     "data": {
      "text/plain": [
       "\"Isn't Tom handsome?\""
      ]
     },
     "execution_count": 85,
     "metadata": {},
     "output_type": "execute_result"
    }
   ],
   "source": [
    "Actual_test_sent[420]"
   ]
  },
  {
   "cell_type": "code",
   "execution_count": 86,
   "metadata": {},
   "outputs": [
    {
     "data": {
      "text/plain": [
       "'Ist Tom nicht schön?'"
      ]
     },
     "execution_count": 86,
     "metadata": {},
     "output_type": "execute_result"
    }
   ],
   "source": [
    "Actual_test_trans[420] [4:-4]"
   ]
  },
  {
   "cell_type": "code",
   "execution_count": 87,
   "metadata": {},
   "outputs": [
    {
     "data": {
      "text/plain": [
       "' Ist Tom nicht gutaussehend?'"
      ]
     },
     "execution_count": 87,
     "metadata": {},
     "output_type": "execute_result"
    }
   ],
   "source": [
    "get_predicted_sentence(test_inputs[420])[:-4]"
   ]
  }
 ],
 "metadata": {
  "colab": {
   "collapsed_sections": [
    "ce2e0fd8-9cb2-47c3-b7b8-7b4f94c9332f"
   ],
   "name": "Training_Encoder_Decoder.ipynb",
   "provenance": []
  },
  "kernelspec": {
   "display_name": "Python 3",
   "language": "python",
   "name": "python3"
  },
  "language_info": {
   "codemirror_mode": {
    "name": "ipython",
    "version": 3
   },
   "file_extension": ".py",
   "mimetype": "text/x-python",
   "name": "python",
   "nbconvert_exporter": "python",
   "pygments_lexer": "ipython3",
   "version": "3.8.5"
  },
  "varInspector": {
   "cols": {
    "lenName": 16,
    "lenType": 16,
    "lenVar": 40
   },
   "kernels_config": {
    "python": {
     "delete_cmd_postfix": "",
     "delete_cmd_prefix": "del ",
     "library": "var_list.py",
     "varRefreshCmd": "print(var_dic_list())"
    },
    "r": {
     "delete_cmd_postfix": ") ",
     "delete_cmd_prefix": "rm(",
     "library": "var_list.r",
     "varRefreshCmd": "cat(var_dic_list()) "
    }
   },
   "types_to_exclude": [
    "module",
    "function",
    "builtin_function_or_method",
    "instance",
    "_Feature"
   ],
   "window_display": false
  }
 },
 "nbformat": 4,
 "nbformat_minor": 4
}
